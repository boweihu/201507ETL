{
 "cells": [
  {
   "cell_type": "markdown",
   "metadata": {
    "slideshow": {
     "slide_type": "slide"
    }
   },
   "source": [
    "## This is a test"
   ]
  },
  {
   "cell_type": "code",
   "execution_count": 1,
   "metadata": {
    "collapsed": false,
    "slideshow": {
     "slide_type": "slide"
    }
   },
   "outputs": [
    {
     "data": {
      "text/plain": [
       "5"
      ]
     },
     "execution_count": 1,
     "metadata": {},
     "output_type": "execute_result"
    }
   ],
   "source": [
    "a = 3 \n",
    "b = 2\n",
    "a + b"
   ]
  },
  {
   "cell_type": "code",
   "execution_count": 9,
   "metadata": {
    "collapsed": false,
    "slideshow": {
     "slide_type": "slide"
    }
   },
   "outputs": [
    {
     "name": "stderr",
     "output_type": "stream",
     "text": [
      "C:\\Python27\\lib\\site-packages\\requests\\packages\\urllib3\\util\\ssl_.py:90: InsecurePlatformWarning: A true SSLContext object is not available. This prevents urllib3 from configuring SSL appropriately and may cause certain SSL connections to fail. For more information, see https://urllib3.readthedocs.org/en/latest/security.html#insecureplatformwarning.\n",
      "  InsecurePlatformWarning\n",
      "C:\\Python27\\lib\\site-packages\\requests\\packages\\urllib3\\connectionpool.py:768: InsecureRequestWarning: Unverified HTTPS request is being made. Adding certificate verification is strongly advised. See: https://urllib3.readthedocs.org/en/latest/security.html\n",
      "  InsecureRequestWarning)\n"
     ]
    }
   ],
   "source": [
    "import requests\n",
    "from bs4 import BeautifulSoup\n",
    "import pandas as pd\n",
    "res = requests.get('https://www.ptt.cc/bbs/Food/index.html', verify=False)\n",
    "soup = BeautifulSoup(res.text)\n",
    "ary = []\n",
    "for ele in soup.select('.r-ent'):\n",
    "    rec = {'a':ele.select('.author')[0].text, 'b':ele.select('.date')[0].text, 'c':ele.select('.title')[0].text.strip()}\n",
    "    ary.append(rec)\n"
   ]
  },
  {
   "cell_type": "code",
   "execution_count": 16,
   "metadata": {
    "collapsed": false,
    "slideshow": {
     "slide_type": "slide"
    }
   },
   "outputs": [
    {
     "name": "stdout",
     "output_type": "stream",
     "text": [
      "{u'\\uff01': 2, u'\\u3002': 1, u'\\u65b0\\u5317': 1, u'\\u5fc5\\u770b': 1, u'\\u725b\\u6392': 1, u'\\u5e97\\u540d': 1, u'\\u8abf\\u6574': 1, u'\\u516c\\u544a': 6, u'\\u3011': 1, u'ghosthell': 1, u'\\u767c\\u6587\\u6a19': 1, u'\\u4e09\\u91cd': 1, u'\\u56de\\u6536': 1, u'\\u6a19\\u984c': 1, u'\\u4f7f\\u7528': 1, u'\\u5730\\u5740': 1, u'\\u83ef\\u8208\\u8857': 1, u'\\u6f6e\\u6c55': 1, u'\\u9664\\u8005': 1, u'\\u7684': 2, u' ': 17, u'\\u738b\\u54c1': 1, u'\"': 2, u'\\u7ca5': 1, u'Food': 1, u'\\u5728': 1, u'\\u88ab': 1, u'\\u91cd\\u8981': 1, u'\\u5f88\\u8cb4': 1, u'.': 1, u'\\u677f\\u898f': 2, u'V3': 1, u'\\u4e2d\\u5c71': 1, u'\\u503c\\u5f97': 1, u'\\u597d\\u5403': 1, u'\\u6587\\u7ae0': 1, u'\\u8cc7\\u6e90': 1, u'\\u677f\\u6a4b': 1, u'^': 2, u'\\u65b9\\u6cd5': 1, u'\\u4e4b': 1, u'\\u6392\\u968a': 1, u'\\u65e5\\u672c': 1, u'\\u96fb\\u8a71': 1, u'\\u53ca': 1, u'\\u53f0\\u5317': 2, u'\\u98df\\u8a18': 3, u'\\u4e0d': 1, u'\\u934b': 1, u'\\u540d\\u55ae': 2, u'\\u4e94\\u5473': 1, u'\\u7802\\u934b': 1, u'vivian06090': 1, u'\\uff0d': 2, u'\\u542b\\u9910': 1, u'\\u767c\\u6587\\u8acb': 1, u'\\u7687\\u9f0e': 1, u'[': 10, u']': 10, u'\\u521d\\u9ad4\\u9a57': 1, u'\\u8acb\\u6d3d': 1, u'\\u79aa\\u95a3': 1, u'\\u522a': 1, u'\\u65b0\\u624b': 1, u'\\u3010': 1, u'\\u6c34\\u6876': 2, u'\\u63d0\\u4f9b': 1, u'16': 1, u'\\u5730\\u5340': 1, u'\\u984c\\u9808': 1, u'7': 1, u'\\u81ed\\u81ed': 1, u'\\u5ef3': 1, u'\\u70b8\\u96de': 1, u'\\u6876': 1, u'\\u62b1\\u6028': 1, u'\\u52a0\\u4e0a': 1, u'\\u7cbe\\u83ef\\u5340': 2, u'\\u677f': 1, u'\\u6176\\u751f': 1}\n"
     ]
    }
   ],
   "source": [
    "import jieba\n",
    "dic = {}\n",
    "for title in ary:\n",
    "    ele = jieba.cut(title['c'])\n",
    "    for e in ele:\n",
    "        if e not in dic:\n",
    "            dic[e] = 1\n",
    "        else:\n",
    "            dic[e] = dic[e] + 1\n",
    "print dic"
   ]
  },
  {
   "cell_type": "code",
   "execution_count": 18,
   "metadata": {
    "collapsed": false
   },
   "outputs": [
    {
     "name": "stdout",
     "output_type": "stream",
     "text": [
      "！ 2\n",
      "。 1\n",
      "新北 1\n",
      "必看 1\n",
      "牛排 1\n",
      "店名 1\n",
      "調整 1\n",
      "公告 6\n",
      "】 1\n",
      "ghosthell 1\n",
      "發文標 1\n",
      "三重 1\n",
      "回收 1\n",
      "標題 1\n",
      "使用 1\n",
      "地址 1\n",
      "華興街 1\n",
      "潮汕 1\n",
      "除者 1\n",
      "的 2\n",
      "  17\n",
      "王品 1\n",
      "\" 2\n",
      "粥 1\n",
      "Food 1\n",
      "在 1\n",
      "被 1\n",
      "重要 1\n",
      "很貴 1\n",
      ". 1\n",
      "板規 2\n",
      "V3 1\n",
      "中山 1\n",
      "值得 1\n",
      "好吃 1\n",
      "文章 1\n",
      "資源 1\n",
      "板橋 1\n",
      "^ 2\n",
      "方法 1\n",
      "之 1\n",
      "排隊 1\n",
      "日本 1\n",
      "電話 1\n",
      "及 1\n",
      "台北 2\n",
      "食記 3\n",
      "不 1\n",
      "鍋 1\n",
      "名單 2\n",
      "五味 1\n",
      "砂鍋 1\n",
      "vivian06090 1\n",
      "－ 2\n",
      "含餐 1\n",
      "發文請 1\n",
      "皇鼎 1\n",
      "[ 10\n",
      "] 10\n",
      "初體驗 1\n",
      "請洽 1\n",
      "禪閣 1\n",
      "刪 1\n",
      "新手 1\n",
      "【 1\n",
      "水桶 2\n",
      "提供 1\n",
      "16 1\n",
      "地區 1\n",
      "題須 1\n",
      "7 1\n",
      "臭臭 1\n",
      "廳 1\n",
      "炸雞 1\n",
      "桶 1\n",
      "抱怨 1\n",
      "加上 1\n",
      "精華區 2\n",
      "板 1\n",
      "慶生 1\n"
     ]
    }
   ],
   "source": [
    "for ele in dic:\n",
    "    print ele, dic[ele]"
   ]
  }
 ],
 "metadata": {
  "celltoolbar": "Slideshow",
  "kernelspec": {
   "display_name": "Python 2",
   "language": "python",
   "name": "python2"
  },
  "language_info": {
   "codemirror_mode": {
    "name": "ipython",
    "version": 2
   },
   "file_extension": ".py",
   "mimetype": "text/x-python",
   "name": "python",
   "nbconvert_exporter": "python",
   "pygments_lexer": "ipython2",
   "version": "2.7.10"
  }
 },
 "nbformat": 4,
 "nbformat_minor": 0
}
