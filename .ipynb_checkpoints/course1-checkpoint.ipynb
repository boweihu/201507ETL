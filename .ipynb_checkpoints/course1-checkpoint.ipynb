{
 "cells": [
  {
   "cell_type": "code",
   "execution_count": 1,
   "metadata": {
    "collapsed": true
   },
   "outputs": [],
   "source": [
    "import sys"
   ]
  },
  {
   "cell_type": "code",
   "execution_count": 2,
   "metadata": {
    "collapsed": false
   },
   "outputs": [
    {
     "name": "stdout",
     "output_type": "stream",
     "text": [
      "Help on built-in module sys:\n",
      "\n",
      "NAME\n",
      "    sys\n",
      "\n",
      "FILE\n",
      "    (built-in)\n",
      "\n",
      "MODULE DOCS\n",
      "    http://docs.python.org/library/sys\n",
      "\n",
      "DESCRIPTION\n",
      "    This module provides access to some objects used or maintained by the\n",
      "    interpreter and to functions that interact strongly with the interpreter.\n",
      "    \n",
      "    Dynamic objects:\n",
      "    \n",
      "    argv -- command line arguments; argv[0] is the script pathname if known\n",
      "    path -- module search path; path[0] is the script directory, else ''\n",
      "    modules -- dictionary of loaded modules\n",
      "    \n",
      "    displayhook -- called to show results in an interactive session\n",
      "    excepthook -- called to handle any uncaught exception other than SystemExit\n",
      "      To customize printing in an interactive session or to install a custom\n",
      "      top-level exception handler, assign other functions to replace these.\n",
      "    \n",
      "    exitfunc -- if sys.exitfunc exists, this routine is called when Python exits\n",
      "      Assigning to sys.exitfunc is deprecated; use the atexit module instead.\n",
      "    \n",
      "    stdin -- standard input file object; used by raw_input() and input()\n",
      "    stdout -- standard output file object; used by the print statement\n",
      "    stderr -- standard error object; used for error messages\n",
      "      By assigning other file objects (or objects that behave like files)\n",
      "      to these, it is possible to redirect all of the interpreter's I/O.\n",
      "    \n",
      "    last_type -- type of last uncaught exception\n",
      "    last_value -- value of last uncaught exception\n",
      "    last_traceback -- traceback of last uncaught exception\n",
      "      These three are only available in an interactive session after a\n",
      "      traceback has been printed.\n",
      "    \n",
      "    exc_type -- type of exception currently being handled\n",
      "    exc_value -- value of exception currently being handled\n",
      "    exc_traceback -- traceback of exception currently being handled\n",
      "      The function exc_info() should be used instead of these three,\n",
      "      because it is thread-safe.\n",
      "    \n",
      "    Static objects:\n",
      "    \n",
      "    float_info -- a dict with information about the float inplementation.\n",
      "    long_info -- a struct sequence with information about the long implementation.\n",
      "    maxint -- the largest supported integer (the smallest is -maxint-1)\n",
      "    maxsize -- the largest supported length of containers.\n",
      "    maxunicode -- the largest supported character\n",
      "    builtin_module_names -- tuple of module names built into this interpreter\n",
      "    version -- the version of this interpreter as a string\n",
      "    version_info -- version information as a named tuple\n",
      "    hexversion -- version information encoded as a single integer\n",
      "    copyright -- copyright notice pertaining to this interpreter\n",
      "    platform -- platform identifier\n",
      "    executable -- absolute path of the executable binary of the Python interpreter\n",
      "    prefix -- prefix used to find the Python library\n",
      "    exec_prefix -- prefix used to find the machine-specific Python library\n",
      "    float_repr_style -- string indicating the style of repr() output for floats\n",
      "    dllhandle -- [Windows only] integer handle of the Python DLL\n",
      "    winver -- [Windows only] version number of the Python DLL\n",
      "    __stdin__ -- the original stdin; don't touch!\n",
      "    __stdout__ -- the original stdout; don't touch!\n",
      "    __stderr__ -- the original stderr; don't touch!\n",
      "    __displayhook__ -- the original displayhook; don't touch!\n",
      "    __excepthook__ -- the original excepthook; don't touch!\n",
      "    \n",
      "    Functions:\n",
      "    \n",
      "    displayhook() -- print an object to the screen, and save it in __builtin__._\n",
      "    excepthook() -- print an exception and its traceback to sys.stderr\n",
      "    exc_info() -- return thread-safe information about the current exception\n",
      "    exc_clear() -- clear the exception state for the current thread\n",
      "    exit() -- exit the interpreter by raising SystemExit\n",
      "    getdlopenflags() -- returns flags to be used for dlopen() calls\n",
      "    getprofile() -- get the global profiling function\n",
      "    getrefcount() -- return the reference count for an object (plus one :-)\n",
      "    getrecursionlimit() -- return the max recursion depth for the interpreter\n",
      "    getsizeof() -- return the size of an object in bytes\n",
      "    gettrace() -- get the global debug tracing function\n",
      "    setcheckinterval() -- control how often the interpreter checks for events\n",
      "    setdlopenflags() -- set the flags to be used for dlopen() calls\n",
      "    setprofile() -- set the global profiling function\n",
      "    setrecursionlimit() -- set the max recursion depth for the interpreter\n",
      "    settrace() -- set the global debug tracing function\n",
      "\n",
      "FUNCTIONS\n",
      "    __displayhook__ = displayhook(...)\n",
      "        displayhook(object) -> None\n",
      "        \n",
      "        Print an object to sys.stdout and also save it in __builtin__._\n",
      "    \n",
      "    __excepthook__ = excepthook(...)\n",
      "        excepthook(exctype, value, traceback) -> None\n",
      "        \n",
      "        Handle an exception by displaying it with a traceback on sys.stderr.\n",
      "    \n",
      "    call_tracing(...)\n",
      "        call_tracing(func, args) -> object\n",
      "        \n",
      "        Call func(*args), while tracing is enabled.  The tracing state is\n",
      "        saved, and restored afterwards.  This is intended to be called from\n",
      "        a debugger from a checkpoint, to recursively debug some other code.\n",
      "    \n",
      "    callstats(...)\n",
      "        callstats() -> tuple of integers\n",
      "        \n",
      "        Return a tuple of function call statistics, if CALL_PROFILE was defined\n",
      "        when Python was built.  Otherwise, return None.\n",
      "        \n",
      "        When enabled, this function returns detailed, implementation-specific\n",
      "        details about the number of function calls executed. The return value is\n",
      "        a 11-tuple where the entries in the tuple are counts of:\n",
      "        0. all function calls\n",
      "        1. calls to PyFunction_Type objects\n",
      "        2. PyFunction calls that do not create an argument tuple\n",
      "        3. PyFunction calls that do not create an argument tuple\n",
      "           and bypass PyEval_EvalCodeEx()\n",
      "        4. PyMethod calls\n",
      "        5. PyMethod calls on bound methods\n",
      "        6. PyType calls\n",
      "        7. PyCFunction calls\n",
      "        8. generator calls\n",
      "        9. All other calls\n",
      "        10. Number of stack pops performed by call_function()\n",
      "    \n",
      "    exc_clear(...)\n",
      "        exc_clear() -> None\n",
      "        \n",
      "        Clear global information on the current exception.  Subsequent calls to\n",
      "        exc_info() will return (None,None,None) until another exception is raised\n",
      "        in the current thread or the execution stack returns to a frame where\n",
      "        another exception is being handled.\n",
      "    \n",
      "    exc_info(...)\n",
      "        exc_info() -> (type, value, traceback)\n",
      "        \n",
      "        Return information about the most recent exception caught by an except\n",
      "        clause in the current stack frame or in an older stack frame.\n",
      "    \n",
      "    exit(...)\n",
      "        exit([status])\n",
      "        \n",
      "        Exit the interpreter by raising SystemExit(status).\n",
      "        If the status is omitted or None, it defaults to zero (i.e., success).\n",
      "        If the status is an integer, it will be used as the system exit status.\n",
      "        If it is another kind of object, it will be printed and the system\n",
      "        exit status will be one (i.e., failure).\n",
      "    \n",
      "    getcheckinterval(...)\n",
      "        getcheckinterval() -> current check interval; see setcheckinterval().\n",
      "    \n",
      "    getdefaultencoding(...)\n",
      "        getdefaultencoding() -> string\n",
      "        \n",
      "        Return the current default string encoding used by the Unicode \n",
      "        implementation.\n",
      "    \n",
      "    getfilesystemencoding(...)\n",
      "        getfilesystemencoding() -> string\n",
      "        \n",
      "        Return the encoding used to convert Unicode filenames in\n",
      "        operating system filenames.\n",
      "    \n",
      "    getprofile(...)\n",
      "        getprofile()\n",
      "        \n",
      "        Return the profiling function set with sys.setprofile.\n",
      "        See the profiler chapter in the library manual.\n",
      "    \n",
      "    getrecursionlimit(...)\n",
      "        getrecursionlimit()\n",
      "        \n",
      "        Return the current value of the recursion limit, the maximum depth\n",
      "        of the Python interpreter stack.  This limit prevents infinite\n",
      "        recursion from causing an overflow of the C stack and crashing Python.\n",
      "    \n",
      "    getrefcount(...)\n",
      "        getrefcount(object) -> integer\n",
      "        \n",
      "        Return the reference count of object.  The count returned is generally\n",
      "        one higher than you might expect, because it includes the (temporary)\n",
      "        reference as an argument to getrefcount().\n",
      "    \n",
      "    getsizeof(...)\n",
      "        getsizeof(object, default) -> int\n",
      "        \n",
      "        Return the size of object in bytes.\n",
      "    \n",
      "    gettrace(...)\n",
      "        gettrace()\n",
      "        \n",
      "        Return the global debug tracing function set with sys.settrace.\n",
      "        See the debugger chapter in the library manual.\n",
      "    \n",
      "    getwindowsversion(...)\n",
      "        getwindowsversion()\n",
      "        \n",
      "        Return information about the running version of Windows as a named tuple.\n",
      "        The members are named: major, minor, build, platform, service_pack,\n",
      "        service_pack_major, service_pack_minor, suite_mask, and product_type. For\n",
      "        backward compatibility, only the first 5 items are available by indexing.\n",
      "        All elements are numbers, except service_pack which is a string. Platform\n",
      "        may be 0 for win32s, 1 for Windows 9x/ME, 2 for Windows NT/2000/XP/Vista/7,\n",
      "        3 for Windows CE. Product_type may be 1 for a workstation, 2 for a domain\n",
      "        controller, 3 for a server.\n",
      "    \n",
      "    setcheckinterval(...)\n",
      "        setcheckinterval(n)\n",
      "        \n",
      "        Tell the Python interpreter to check for asynchronous events every\n",
      "        n instructions.  This also affects how often thread switches occur.\n",
      "    \n",
      "    setprofile(...)\n",
      "        setprofile(function)\n",
      "        \n",
      "        Set the profiling function.  It will be called on each function call\n",
      "        and return.  See the profiler chapter in the library manual.\n",
      "    \n",
      "    setrecursionlimit(...)\n",
      "        setrecursionlimit(n)\n",
      "        \n",
      "        Set the maximum depth of the Python interpreter stack to n.  This\n",
      "        limit prevents infinite recursion from causing an overflow of the C\n",
      "        stack and crashing Python.  The highest possible limit is platform-\n",
      "        dependent.\n",
      "    \n",
      "    settrace(...)\n",
      "        settrace(function)\n",
      "        \n",
      "        Set the global debug tracing function.  It will be called on each\n",
      "        function call.  See the debugger chapter in the library manual.\n",
      "\n",
      "DATA\n",
      "    __stderr__ = <open file '<stderr>', mode 'w'>\n",
      "    __stdin__ = <open file '<stdin>', mode 'r'>\n",
      "    __stdout__ = <open file '<stdout>', mode 'w'>\n",
      "    api_version = 1013\n",
      "    argv = [r'C:\\Python27\\lib\\site-packages\\IPython\\kernel\\__main__.py', '...\n",
      "    builtin_module_names = ('__builtin__', '__main__', '_ast', '_bisect', ...\n",
      "    byteorder = 'little'\n",
      "    copyright = 'Copyright (c) 2001-2015 Python Software Foundati...ematis...\n",
      "    displayhook = <IPython.kernel.zmq.displayhook.ZMQShellDisplayHook obje...\n",
      "    dllhandle = 503316480\n",
      "    dont_write_bytecode = False\n",
      "    exc_value = TypeError(\"<module 'sys' (built-in)> is a built-in module\"...\n",
      "    exec_prefix = r'C:\\Python27'\n",
      "    executable = r'C:\\Python27\\python.exe'\n",
      "    flags = sys.flags(debug=0, py3k_warning=0, division_warn...unicode=0, ...\n",
      "    float_info = sys.float_info(max=1.7976931348623157e+308, max_...epsilo...\n",
      "    float_repr_style = 'short'\n",
      "    hexversion = 34015984\n",
      "    long_info = sys.long_info(bits_per_digit=15, sizeof_digit=2)\n",
      "    maxint = 2147483647\n",
      "    maxsize = 2147483647\n",
      "    maxunicode = 65535\n",
      "    meta_path = []\n",
      "    modules = {'IPython': <module 'IPython' from 'C:\\Python27\\lib\\site-pac...\n",
      "    path = ['', r'C:\\Python27\\lib\\site-packages\\setuptools-16.0-py2.7.egg'...\n",
      "    path_hooks = [<type 'zipimport.zipimporter'>]\n",
      "    path_importer_cache = {'': None, r'C:\\Python27': None, r'C:\\Python27\\D...\n",
      "    platform = 'win32'\n",
      "    prefix = r'C:\\Python27'\n",
      "    ps1 = 'In : '\n",
      "    ps2 = '...: '\n",
      "    ps3 = 'Out: '\n",
      "    py3kwarning = False\n",
      "    stderr = <IPython.kernel.zmq.iostream.OutStream object>\n",
      "    stdin = <open file '<stdin>', mode 'r'>\n",
      "    stdout = <IPython.kernel.zmq.iostream.OutStream object>\n",
      "    subversion = ('CPython', '', '')\n",
      "    version = '2.7.10 (default, May 23 2015, 09:40:32) [MSC v.1500 32 bit ...\n",
      "    version_info = sys.version_info(major=2, minor=7, micro=10, releaselev...\n",
      "    warnoptions = []\n",
      "    winver = '2.7'\n",
      "\n",
      "\n"
     ]
    }
   ],
   "source": [
    "help(sys)"
   ]
  },
  {
   "cell_type": "code",
   "execution_count": 3,
   "metadata": {
    "collapsed": false
   },
   "outputs": [
    {
     "name": "stdout",
     "output_type": "stream",
     "text": [
      "Help on built-in function exit in module sys:\n",
      "\n",
      "exit(...)\n",
      "    exit([status])\n",
      "    \n",
      "    Exit the interpreter by raising SystemExit(status).\n",
      "    If the status is omitted or None, it defaults to zero (i.e., success).\n",
      "    If the status is an integer, it will be used as the system exit status.\n",
      "    If it is another kind of object, it will be printed and the system\n",
      "    exit status will be one (i.e., failure).\n",
      "\n"
     ]
    }
   ],
   "source": [
    "help(sys.exit)"
   ]
  },
  {
   "cell_type": "code",
   "execution_count": 4,
   "metadata": {
    "collapsed": false
   },
   "outputs": [
    {
     "data": {
      "text/plain": [
       "['__displayhook__',\n",
       " '__doc__',\n",
       " '__egginsert',\n",
       " '__excepthook__',\n",
       " '__name__',\n",
       " '__package__',\n",
       " '__plen',\n",
       " '__stderr__',\n",
       " '__stdin__',\n",
       " '__stdout__',\n",
       " '_clear_type_cache',\n",
       " '_current_frames',\n",
       " '_getframe',\n",
       " '_mercurial',\n",
       " 'api_version',\n",
       " 'argv',\n",
       " 'builtin_module_names',\n",
       " 'byteorder',\n",
       " 'call_tracing',\n",
       " 'callstats',\n",
       " 'copyright',\n",
       " 'displayhook',\n",
       " 'dllhandle',\n",
       " 'dont_write_bytecode',\n",
       " 'exc_clear',\n",
       " 'exc_info',\n",
       " 'exc_type',\n",
       " 'excepthook',\n",
       " 'exec_prefix',\n",
       " 'executable',\n",
       " 'exit',\n",
       " 'exitfunc',\n",
       " 'flags',\n",
       " 'float_info',\n",
       " 'float_repr_style',\n",
       " 'getcheckinterval',\n",
       " 'getdefaultencoding',\n",
       " 'getfilesystemencoding',\n",
       " 'getprofile',\n",
       " 'getrecursionlimit',\n",
       " 'getrefcount',\n",
       " 'getsizeof',\n",
       " 'gettrace',\n",
       " 'getwindowsversion',\n",
       " 'hexversion',\n",
       " 'long_info',\n",
       " 'maxint',\n",
       " 'maxsize',\n",
       " 'maxunicode',\n",
       " 'meta_path',\n",
       " 'modules',\n",
       " 'path',\n",
       " 'path_hooks',\n",
       " 'path_importer_cache',\n",
       " 'platform',\n",
       " 'prefix',\n",
       " 'ps1',\n",
       " 'ps2',\n",
       " 'ps3',\n",
       " 'py3kwarning',\n",
       " 'setcheckinterval',\n",
       " 'setprofile',\n",
       " 'setrecursionlimit',\n",
       " 'settrace',\n",
       " 'stderr',\n",
       " 'stdin',\n",
       " 'stdout',\n",
       " 'subversion',\n",
       " 'version',\n",
       " 'version_info',\n",
       " 'warnoptions',\n",
       " 'winver']"
      ]
     },
     "execution_count": 4,
     "metadata": {},
     "output_type": "execute_result"
    }
   ],
   "source": [
    "dir(sys)"
   ]
  },
  {
   "cell_type": "code",
   "execution_count": 6,
   "metadata": {
    "collapsed": true
   },
   "outputs": [],
   "source": [
    "sys?"
   ]
  },
  {
   "cell_type": "code",
   "execution_count": 7,
   "metadata": {
    "collapsed": false
   },
   "outputs": [
    {
     "name": "stdout",
     "output_type": "stream",
     "text": [
      "Hello from python\n"
     ]
    }
   ],
   "source": [
    "print(\"Hello from python\")"
   ]
  },
  {
   "cell_type": "code",
   "execution_count": 9,
   "metadata": {
    "collapsed": false
   },
   "outputs": [
    {
     "name": "stdout",
     "output_type": "stream",
     "text": [
      "How are you?\"ok\"\n"
     ]
    },
    {
     "data": {
      "text/plain": [
       "'ok'"
      ]
     },
     "execution_count": 9,
     "metadata": {},
     "output_type": "execute_result"
    }
   ],
   "source": [
    "input(\"How are you?\")"
   ]
  },
  {
   "cell_type": "code",
   "execution_count": 10,
   "metadata": {
    "collapsed": false
   },
   "outputs": [
    {
     "name": "stdout",
     "output_type": "stream",
     "text": [
      "How are you?ok\n"
     ]
    },
    {
     "data": {
      "text/plain": [
       "'ok'"
      ]
     },
     "execution_count": 10,
     "metadata": {},
     "output_type": "execute_result"
    }
   ],
   "source": [
    "raw_input(\"How are you?\")"
   ]
  },
  {
   "cell_type": "code",
   "execution_count": 11,
   "metadata": {
    "collapsed": false
   },
   "outputs": [
    {
     "name": "stdout",
     "output_type": "stream",
     "text": [
      "How are you?good\n"
     ]
    }
   ],
   "source": [
    "answer = raw_input(\"How are you?\")\n"
   ]
  },
  {
   "cell_type": "code",
   "execution_count": 12,
   "metadata": {
    "collapsed": false
   },
   "outputs": [
    {
     "data": {
      "text/plain": [
       "'good'"
      ]
     },
     "execution_count": 12,
     "metadata": {},
     "output_type": "execute_result"
    }
   ],
   "source": [
    "answer"
   ]
  },
  {
   "cell_type": "code",
   "execution_count": 14,
   "metadata": {
    "collapsed": false
   },
   "outputs": [
    {
     "name": "stdout",
     "output_type": "stream",
     "text": [
      "What is your name? David\n",
      "Nice to mee you! David\n"
     ]
    }
   ],
   "source": [
    "name = raw_input(\"What is your name? \")\n",
    "if name == \"David\":\n",
    "    print (\"Nice to mee you! \" + name)\n",
    "else:\n",
    "    print (\"Your name again?\")\n"
   ]
  },
  {
   "cell_type": "code",
   "execution_count": 15,
   "metadata": {
    "collapsed": false
   },
   "outputs": [
    {
     "name": "stdout",
     "output_type": "stream",
     "text": [
      "What is your name? David\n",
      "What is your phone number? 0912345677\n",
      "Hello, my name is David and my phone number is 0912345677!\n"
     ]
    }
   ],
   "source": [
    "name = raw_input(\"What is your name? \")\n",
    "phone = raw_input(\"What is your phone number? \")\n",
    "print \"Hello, my name is \" + name + \" and my phone number is \" + phone + \"!\""
   ]
  },
  {
   "cell_type": "code",
   "execution_count": 20,
   "metadata": {
    "collapsed": false
   },
   "outputs": [
    {
     "name": "stdout",
     "output_type": "stream",
     "text": [
      "What is your name? John\n",
      "What is your phone number? 092534546545\n",
      "Your name again? Is it John ? and is your phone number,  092534546545 ?\n"
     ]
    }
   ],
   "source": [
    "name = raw_input(\"What is your name? \")\n",
    "phone = raw_input(\"What is your phone number? \")\n",
    "if name == \"David\":\n",
    "    print (\"Nice to mee you! {} and your phone is {}\".format(name, phone))\n",
    "elif name == \"Mary\":\n",
    "    print (\"Nice to mee you! {0} and your phone is {1}\".format(name, phone))\n",
    "elif name == \"Dummy\":\n",
    "    print (\"Nice to mee you! {1} and your phone is {1}\".format(name, phone))\n",
    "else:\n",
    "    print (\"Your name again? Is it %s ? and is your phone number,  %s ?\" na%(me, phone))\n"
   ]
  },
  {
   "cell_type": "code",
   "execution_count": 22,
   "metadata": {
    "collapsed": false
   },
   "outputs": [
    {
     "name": "stdout",
     "output_type": "stream",
     "text": [
      "<type 'str'>\n",
      "<type 'float'>\n"
     ]
    }
   ],
   "source": [
    "a = \"Hello\"\n",
    "print type(a)\n",
    "\n",
    "b = 123.0\n",
    "print type(b)"
   ]
  },
  {
   "cell_type": "code",
   "execution_count": 23,
   "metadata": {
    "collapsed": false
   },
   "outputs": [
    {
     "name": "stdout",
     "output_type": "stream",
     "text": [
      "Repeat Times: 5\n",
      "Qoo Qoo Qoo Qoo Qoo \n"
     ]
    }
   ],
   "source": [
    "times = raw_input(\"Repeat Times: \")\n",
    "print(\"Qoo \" * int(times))"
   ]
  },
  {
   "cell_type": "code",
   "execution_count": 24,
   "metadata": {
    "collapsed": false
   },
   "outputs": [
    {
     "name": "stdout",
     "output_type": "stream",
     "text": [
      "0 1 0 1 0 1 0 1 0 1 0 1 0 1 0 1 0 1 0 1 0 1 0 1 0 1 0 1 0 1 0 1 0 1 0 1 0 1 0 1 \n"
     ]
    }
   ],
   "source": [
    "print(\"0 1 \" * 20)"
   ]
  },
  {
   "cell_type": "code",
   "execution_count": 25,
   "metadata": {
    "collapsed": false,
    "scrolled": true
   },
   "outputs": [
    {
     "ename": "ZeroDivisionError",
     "evalue": "integer division or modulo by zero",
     "output_type": "error",
     "traceback": [
      "\u001b[1;31m---------------------------------------------------------------------------\u001b[0m",
      "\u001b[1;31mZeroDivisionError\u001b[0m                         Traceback (most recent call last)",
      "\u001b[1;32m<ipython-input-25-05c9758a9c21>\u001b[0m in \u001b[0;36m<module>\u001b[1;34m()\u001b[0m\n\u001b[1;32m----> 1\u001b[1;33m \u001b[1;36m1\u001b[0m\u001b[1;33m/\u001b[0m\u001b[1;36m0\u001b[0m\u001b[1;33m\u001b[0m\u001b[0m\n\u001b[0m",
      "\u001b[1;31mZeroDivisionError\u001b[0m: integer division or modulo by zero"
     ]
    }
   ],
   "source": [
    "1/0"
   ]
  },
  {
   "cell_type": "code",
   "execution_count": 29,
   "metadata": {
    "collapsed": false
   },
   "outputs": [
    {
     "name": "stdout",
     "output_type": "stream",
     "text": [
      "Dividend: 5\n",
      "Divisor: 0\n",
      "ZeroDvisionError float division by zero\n"
     ]
    }
   ],
   "source": [
    "dividend = raw_input(\"Dividend: \")\n",
    "divisor = raw_input(\"Divisor: \")\n",
    "\n",
    "try:\n",
    "    print float(dividend) / float(divisor)\n",
    "except ZeroDivisionError as detail:\n",
    "    print \"ZeroDvisionError\", detail\n"
   ]
  },
  {
   "cell_type": "code",
   "execution_count": 31,
   "metadata": {
    "collapsed": false
   },
   "outputs": [
    {
     "name": "stdout",
     "output_type": "stream",
     "text": [
      "Dividend: qoo\n",
      "Divisor: qoo\n",
      "value error could not convert string to float: qoo\n"
     ]
    }
   ],
   "source": [
    "dividend = raw_input(\"Dividend: \")\n",
    "divisor = raw_input(\"Divisor: \")\n",
    "\n",
    "try:\n",
    "    print float(dividend) / float(divisor)\n",
    "except ValueError as detail2:\n",
    "    print \"value error\", detail2\n",
    "except ZeroDivisionError as detail:\n",
    "    print \"ZeroDvisionError\", detail\n"
   ]
  },
  {
   "cell_type": "code",
   "execution_count": 32,
   "metadata": {
    "collapsed": false
   },
   "outputs": [
    {
     "name": "stdout",
     "output_type": "stream",
     "text": [
      "Dividend: hrllo\n",
      "Divisor: 2\n",
      "error\n"
     ]
    }
   ],
   "source": [
    "dividend = raw_input(\"Dividend: \")\n",
    "divisor = raw_input(\"Divisor: \")\n",
    "\n",
    "try:\n",
    "    print float(dividend) / float(divisor)\n",
    "except:\n",
    "    print \"error\"\n"
   ]
  },
  {
   "cell_type": "code",
   "execution_count": 33,
   "metadata": {
    "collapsed": false
   },
   "outputs": [
    {
     "name": "stdout",
     "output_type": "stream",
     "text": [
      "this is a \"book\"\n"
     ]
    }
   ],
   "source": [
    "a = 'this is a \"book\"'\n",
    "print a\n"
   ]
  },
  {
   "cell_type": "code",
   "execution_count": 34,
   "metadata": {
    "collapsed": false
   },
   "outputs": [
    {
     "name": "stdout",
     "output_type": "stream",
     "text": [
      "hi this is a long text\n"
     ]
    }
   ],
   "source": [
    "a = 'hi this is a l\\\n",
    "ong text'\n",
    "print a\n"
   ]
  },
  {
   "cell_type": "code",
   "execution_count": 35,
   "metadata": {
    "collapsed": false
   },
   "outputs": [
    {
     "name": "stdout",
     "output_type": "stream",
     "text": [
      "hi this is a l\n",
      "ong text\n"
     ]
    }
   ],
   "source": [
    "a = '''hi this is a l\n",
    "ong text'''\n",
    "print a\n"
   ]
  },
  {
   "cell_type": "code",
   "execution_count": 36,
   "metadata": {
    "collapsed": false
   },
   "outputs": [
    {
     "name": "stdout",
     "output_type": "stream",
     "text": [
      "e\n",
      "d\n",
      "11\n",
      "hello world yoyo\n"
     ]
    }
   ],
   "source": [
    "s = 'hello world'\n",
    "print s[1]  #e\n",
    "print s[-1] #d\n",
    "print len(s)  ## 11\n",
    "print s + ' yoyo'  ## hello world yoyo"
   ]
  },
  {
   "cell_type": "code",
   "execution_count": 37,
   "metadata": {
    "collapsed": false
   },
   "outputs": [
    {
     "name": "stdout",
     "output_type": "stream",
     "text": [
      "my age is 30\n"
     ]
    }
   ],
   "source": [
    "age = 30\n",
    "print \"my age is \" + str(age)\n"
   ]
  },
  {
   "cell_type": "code",
   "execution_count": 39,
   "metadata": {
    "collapsed": false
   },
   "outputs": [
    {
     "name": "stdout",
     "output_type": "stream",
     "text": [
      "hello, dears:\n",
      " \t my name is qoo, I loves oop \n",
      "Best Regards, qoo\n"
     ]
    }
   ],
   "source": [
    "a = 'hello, dears:\\n \\t my name is qoo, I loves oop \\nBest Regards, qoo'\n",
    "print a"
   ]
  },
  {
   "cell_type": "code",
   "execution_count": 42,
   "metadata": {
    "collapsed": false
   },
   "outputs": [
    {
     "name": "stdout",
     "output_type": "stream",
     "text": [
      "u'\\n[\\u98df\\u8a18] \\u53f0\\u5317 \\u65e5\\u672c\\u70b8\\u96de\"\\u79aa\\u95a3\"\\u597d\\u5403\\u5f88\\u8cb4\\u4e0d\\u503c\\u5f97\\u6392\\u968a\\n' u'[\\u98df\\u8a18] \\u53f0\\u5317 \\u65e5\\u672c\\u70b8\\u96de\"\\u79aa\\u95a3\"\\u597d\\u5403\\u5f88\\u8cb4\\u4e0d\\u503c\\u5f97\\u6392\\u968a'\n",
      "u'\\n[\\u516c\\u544a] \\u6c34\\u6876\\u540d\\u55ae\\uff0dghosthell\\n' u'[\\u516c\\u544a] \\u6c34\\u6876\\u540d\\u55ae\\uff0dghosthell'\n",
      "u'\\n[\\u516c\\u544a] \\u6c34\\u6876\\u540d\\u55ae\\uff0dvivian06090\\n' u'[\\u516c\\u544a] \\u6c34\\u6876\\u540d\\u55ae\\uff0dvivian06090'\n",
      "u'\\n[\\u98df\\u8a18] \\u65b0\\u5317\\u4e09\\u91cd \\u7687\\u9f0e\\u6f6e\\u6c55\\u7802\\u934b\\u7ca5\\n' u'[\\u98df\\u8a18] \\u65b0\\u5317\\u4e09\\u91cd \\u7687\\u9f0e\\u6f6e\\u6c55\\u7802\\u934b\\u7ca5'\n",
      "u'\\n[\\u98df\\u8a18] \\u53f0\\u5317\\u4e2d\\u5c71 \\u738b\\u54c1\\u725b\\u6392\\u6176\\u751f\\u521d\\u9ad4\\u9a57\\n' u'[\\u98df\\u8a18] \\u53f0\\u5317\\u4e2d\\u5c71 \\u738b\\u54c1\\u725b\\u6392\\u6176\\u751f\\u521d\\u9ad4\\u9a57'\n",
      "u'\\n[\\u62b1\\u6028] \\u677f\\u6a4b\\u83ef\\u8208\\u8857\\u7684\\u4e94\\u5473\\u81ed\\u81ed\\u934b\\n' u'[\\u62b1\\u6028] \\u677f\\u6a4b\\u83ef\\u8208\\u8857\\u7684\\u4e94\\u5473\\u81ed\\u81ed\\u934b'\n",
      "u'\\n[\\u98df\\u8a18] \\u7f8e\\u570b\\u829d\\u52a0\\u54e5 Juno Sushi\\n' u'[\\u98df\\u8a18] \\u7f8e\\u570b\\u829d\\u52a0\\u54e5 Juno Sushi'\n",
      "u\"\\n[\\u98df\\u8a18] \\u7f8e\\u570b \\u7d10\\u7d04 Katz's Deli. \\u767e\\u5e74\\u725b\\u8089\\u4e09\\u660e\\u6cbb\\n\" u\"[\\u98df\\u8a18] \\u7f8e\\u570b \\u7d10\\u7d04 Katz's Deli. \\u767e\\u5e74\\u725b\\u8089\\u4e09\\u660e\\u6cbb\"\n",
      "u'\\n[\\u98df\\u8a18] \\u53f0\\u5317 737\\u5df7\\u4e32\\u70e4\\u9999\\u96de\\u6392\\u3002\\u5167\\u6e56737\\u5546\\u5708\\n' u'[\\u98df\\u8a18] \\u53f0\\u5317 737\\u5df7\\u4e32\\u70e4\\u9999\\u96de\\u6392\\u3002\\u5167\\u6e56737\\u5546\\u5708'\n",
      "u'\\nRe: [\\u60bc\\u6587] \\u677f\\u53cbblueherobest\\uff08\\u67d4\\u85cd\\u98df\\u55ae/\\u82e6\\u84ee\\uff09\\u904e\\u4e16\\n' u'Re: [\\u60bc\\u6587] \\u677f\\u53cbblueherobest\\uff08\\u67d4\\u85cd\\u98df\\u55ae/\\u82e6\\u84ee\\uff09\\u904e\\u4e16'\n",
      "u'\\n[\\u98df\\u8a18] \\u82b1\\u84ee \\u535a\\u611b\\u8857 \\u9ed1\\u767d\\u5207\\u7c73\\u7c89\\u6e6f\\n' u'[\\u98df\\u8a18] \\u82b1\\u84ee \\u535a\\u611b\\u8857 \\u9ed1\\u767d\\u5207\\u7c73\\u7c89\\u6e6f'\n",
      "u'\\n[\\u98df\\u8a18] \\u53f0\\u5317\\u5357\\u4eac\\u5fa9\\u8208\\u7ad9_\\u6f22\\u967d\\u9928\\u97d3\\u570b\\u6599\\u7406\\n' u'[\\u98df\\u8a18] \\u53f0\\u5317\\u5357\\u4eac\\u5fa9\\u8208\\u7ad9_\\u6f22\\u967d\\u9928\\u97d3\\u570b\\u6599\\u7406'\n",
      "u'\\n[\\u98df\\u8a18] \\u65b0\\u7af9 \\u5fa1\\u5eda\\u96f2\\u6cf0\\u7f8e\\u98df\\n' u'[\\u98df\\u8a18] \\u65b0\\u7af9 \\u5fa1\\u5eda\\u96f2\\u6cf0\\u7f8e\\u98df'\n",
      "u'\\n[\\u98df\\u8a18] \\u53f0\\u5357\\u5b89\\u5e73 \\u963f\\u8ca1\\u725b\\u8089\\u6e6f \\u9053\\u5730\\u53f0\\u5357\\u98a8\\u5473\\u65e9\\u9910\\n' u'[\\u98df\\u8a18] \\u53f0\\u5357\\u5b89\\u5e73 \\u963f\\u8ca1\\u725b\\u8089\\u6e6f \\u9053\\u5730\\u53f0\\u5357\\u98a8\\u5473\\u65e9\\u9910'\n",
      "u'\\n[\\u9ad8\\u96c4][\\u63a8]Qi La\\u742a\\u62c9\\u5496\\u5561~\\u7f8e\\u5473\\u9ad8CP\\u503c\\n' u'[\\u9ad8\\u96c4][\\u63a8]Qi La\\u742a\\u62c9\\u5496\\u5561~\\u7f8e\\u5473\\u9ad8CP\\u503c'\n",
      "u'\\n[\\u98df\\u8a18] \\u5357\\u6295 \\u6709\\u798f\\u65e9\\u9ede \\u4e2d\\u8208\\u65b0\\u6751\\u7684\\u5fc5\\u8cb7\\u65e9\\u9910\\n' u'[\\u98df\\u8a18] \\u5357\\u6295 \\u6709\\u798f\\u65e9\\u9ede \\u4e2d\\u8208\\u65b0\\u6751\\u7684\\u5fc5\\u8cb7\\u65e9\\u9910'\n",
      "u'\\nFw: [\\u98df\\u8a18] MLD\\u53f0\\u92c1\\u751f\\u6d3b\\u5546\\u5834 \\u7f8e\\u98df\\u8857-\\u4e3c\\u98ef\\u7bc7\\n' u'Fw: [\\u98df\\u8a18] MLD\\u53f0\\u92c1\\u751f\\u6d3b\\u5546\\u5834 \\u7f8e\\u98df\\u8857-\\u4e3c\\u98ef\\u7bc7'\n",
      "u'\\n[\\u98df\\u8a18] \\u65b0\\u5317\\u6c50\\u6b62 \\u6c88\\u5bb6\\u6dbc\\u9eb5 \\u590f\\u65e5\\u7f8e\\u98df\\u63a8\\u85a6\\n' u'[\\u98df\\u8a18] \\u65b0\\u5317\\u6c50\\u6b62 \\u6c88\\u5bb6\\u6dbc\\u9eb5 \\u590f\\u65e5\\u7f8e\\u98df\\u63a8\\u85a6'\n",
      "u'\\n[\\u98df\\u8a18]\\u65e5\\u672c\\u798f\\u5ca1 \\u5695\\u5695\\u7c73\\u9910\\u5ef3Moomin cafe\\n' u'[\\u98df\\u8a18]\\u65e5\\u672c\\u798f\\u5ca1 \\u5695\\u5695\\u7c73\\u9910\\u5ef3Moomin cafe'\n",
      "u'\\n[\\u516c\\u544a] Food\\u677f \\u677f\\u898f V3.7\\n' u'[\\u516c\\u544a] Food\\u677f \\u677f\\u898f V3.7'\n",
      "u'\\n\\u7cbe\\u83ef\\u5340\\u4f7f\\u7528\\u65b9\\u6cd5  \\u3010\\u91cd\\u8981\\uff01\\u65b0\\u624b\\u5fc5\\u770b\\uff01\\u3011\\n' u'\\u7cbe\\u83ef\\u5340\\u4f7f\\u7528\\u65b9\\u6cd5  \\u3010\\u91cd\\u8981\\uff01\\u65b0\\u624b\\u5fc5\\u770b\\uff01\\u3011'\n",
      "u'\\n[\\u516c\\u544a] \\u767c\\u6587\\u8acb\\u5728\\u6a19\\u984c\\u52a0\\u4e0a\\u5730\\u5340\\u53ca\\u63d0\\u4f9b\\u5730\\u5740\\u96fb\\u8a71\\u3002^^\\n' u'[\\u516c\\u544a] \\u767c\\u6587\\u8acb\\u5728\\u6a19\\u984c\\u52a0\\u4e0a\\u5730\\u5340\\u53ca\\u63d0\\u4f9b\\u5730\\u5740\\u96fb\\u8a71\\u3002^^'\n",
      "u'\\n[\\u516c\\u544a] \\u6587\\u7ae0\\u88ab\\u522a\\u9664\\u8005\\u8acb\\u6d3d\\u7cbe\\u83ef\\u5340\\u7684\\u8cc7\\u6e90\\u56de\\u6536\\u6876\\n' u'[\\u516c\\u544a] \\u6587\\u7ae0\\u88ab\\u522a\\u9664\\u8005\\u8acb\\u6d3d\\u7cbe\\u83ef\\u5340\\u7684\\u8cc7\\u6e90\\u56de\\u6536\\u6876'\n",
      "u'\\n[\\u516c\\u544a] \\u677f\\u898f16\\u767c\\u6587\\u6a19\\u984c\\u9808\\u542b\\u9910\\u5ef3\\u5e97\\u540d\\u4e4b\\u8abf\\u6574\\n' u'[\\u516c\\u544a] \\u677f\\u898f16\\u767c\\u6587\\u6a19\\u984c\\u9808\\u542b\\u9910\\u5ef3\\u5e97\\u540d\\u4e4b\\u8abf\\u6574'\n"
     ]
    },
    {
     "name": "stderr",
     "output_type": "stream",
     "text": [
      "C:\\Python27\\lib\\site-packages\\requests\\packages\\urllib3\\util\\ssl_.py:90: InsecurePlatformWarning: A true SSLContext object is not available. This prevents urllib3 from configuring SSL appropriately and may cause certain SSL connections to fail. For more information, see https://urllib3.readthedocs.org/en/latest/security.html#insecureplatformwarning.\n",
      "  InsecurePlatformWarning\n",
      "C:\\Python27\\lib\\site-packages\\requests\\packages\\urllib3\\connectionpool.py:768: InsecureRequestWarning: Unverified HTTPS request is being made. Adding certificate verification is strongly advised. See: https://urllib3.readthedocs.org/en/latest/security.html\n",
      "  InsecureRequestWarning)\n"
     ]
    }
   ],
   "source": [
    "import requests\n",
    "from bs4 import BeautifulSoup\n",
    "res = requests.get('https://www.ptt.cc/bbs/Food/index.html', verify=False)\n",
    "soup = BeautifulSoup(res.text)\n",
    "for ele in soup.select('.r-ent'):\n",
    "    print repr(ele.select('.title')[0].text), repr(ele.select('.title')[0].text.strip())\n"
   ]
  },
  {
   "cell_type": "code",
   "execution_count": 52,
   "metadata": {
    "collapsed": false
   },
   "outputs": [
    {
     "name": "stdout",
     "output_type": "stream",
     "text": [
      "[食記]\n",
      "[公告]\n",
      "[公告]\n",
      "[食記]\n",
      "[食記]\n",
      "[抱怨]\n",
      "[食記]\n",
      "[食記]\n",
      "[食記]\n",
      "Re:\n",
      "[食記]\n",
      "[食記]\n",
      "[食記]\n",
      "[食記]\n",
      "[高雄][推]Qi\n",
      "[食記]\n",
      "Fw:\n",
      "[食記]\n",
      "[食記]日本福岡\n",
      "[食記]\n",
      "[公告]\n",
      "精華區使用方法\n",
      "[公告]\n",
      "[公告]\n",
      "[公告]\n"
     ]
    },
    {
     "name": "stderr",
     "output_type": "stream",
     "text": [
      "C:\\Python27\\lib\\site-packages\\requests\\packages\\urllib3\\util\\ssl_.py:90: InsecurePlatformWarning: A true SSLContext object is not available. This prevents urllib3 from configuring SSL appropriately and may cause certain SSL connections to fail. For more information, see https://urllib3.readthedocs.org/en/latest/security.html#insecureplatformwarning.\n",
      "  InsecurePlatformWarning\n",
      "C:\\Python27\\lib\\site-packages\\requests\\packages\\urllib3\\connectionpool.py:768: InsecureRequestWarning: Unverified HTTPS request is being made. Adding certificate verification is strongly advised. See: https://urllib3.readthedocs.org/en/latest/security.html\n",
      "  InsecureRequestWarning)\n"
     ]
    }
   ],
   "source": [
    "import requests\n",
    "from bs4 import BeautifulSoup\n",
    "res = requests.get('https://www.ptt.cc/bbs/Food/index.html', verify=False)\n",
    "soup = BeautifulSoup(res.text)\n",
    "for ele in soup.select('.r-ent'):\n",
    "    #print ele.select('.title')[0].text.strip()[0:4]\n",
    "    print ele.select('.title')[0].text.strip().split()[0]\n"
   ]
  },
  {
   "cell_type": "code",
   "execution_count": 51,
   "metadata": {
    "collapsed": false
   },
   "outputs": [
    {
     "name": "stdout",
     "output_type": "stream",
     "text": [
      "['Qoo', 'loves', 'OOP']\n",
      "QOO LOVES OOP\n",
      "qoo loves oop\n",
      "loves\n"
     ]
    }
   ],
   "source": [
    "a = 'Qoo loves OOP'\n",
    "print a.split()\n",
    "print a.upper()\n",
    "print a.lower()\n",
    "print a.split()[1]\n",
    "\n"
   ]
  },
  {
   "cell_type": "code",
   "execution_count": 56,
   "metadata": {
    "collapsed": false
   },
   "outputs": [
    {
     "name": "stdout",
     "output_type": "stream",
     "text": [
      "Qoo_loves_OOP\n",
      "Qoo-loves-OOP\n"
     ]
    },
    {
     "data": {
      "text/plain": [
       "'Qoo-loves-OOP'"
      ]
     },
     "execution_count": 56,
     "metadata": {},
     "output_type": "execute_result"
    }
   ],
   "source": [
    "import string\n",
    "a = 'Qoo loves OOP'\n",
    "print string.join(a.split(), '_')\n",
    "print string.join(a.split(), '-') # 'Qoo-loves-OOP'\n",
    "\n",
    "a = 'Qoo loves OOP'\n",
    "'-'.join(a.split())\n"
   ]
  },
  {
   "cell_type": "code",
   "execution_count": 58,
   "metadata": {
    "collapsed": false
   },
   "outputs": [
    {
     "name": "stdout",
     "output_type": "stream",
     "text": [
      "['123', '230943209430', '1-203103-13021-31-321']\n",
      "1232309432094301-203103-13021-31-321\n"
     ]
    }
   ],
   "source": [
    "a = '123                  230943209430                                         1-203103-13021-31-321'\n",
    "print a.split()\n",
    "print ''.join(a.split())"
   ]
  },
  {
   "cell_type": "code",
   "execution_count": 64,
   "metadata": {
    "collapsed": false
   },
   "outputs": [
    {
     "name": "stdout",
     "output_type": "stream",
     "text": [
      "My name is david The results are 3.14 and 5\n",
      "My name is 6 The results are 3.14 and 5\n",
      "My name is david The results are 3.00 and 5\n"
     ]
    }
   ],
   "source": [
    "#String Formatting \n",
    "print 'My name is %s The results are %.02f and %d' % (\"david\",3.14159, 5)\n",
    "print 'My name is %s The results are %.02f and %d' % (6,3.14159, 5)\n",
    "#print 'My name is %s The results are %.02f and %d' % (\"david\",3.14159, \"qoo\")\n",
    "print 'My name is %s The results are %.02f and %d' % (\"david\",3, 5)\n",
    "\n"
   ]
  },
  {
   "cell_type": "code",
   "execution_count": 65,
   "metadata": {
    "collapsed": false
   },
   "outputs": [
    {
     "name": "stdout",
     "output_type": "stream",
     "text": [
      "ooq sevol I\n"
     ]
    }
   ],
   "source": [
    "a = 'I loves qoo'\n",
    "print a[::-1]"
   ]
  },
  {
   "cell_type": "code",
   "execution_count": 66,
   "metadata": {
    "collapsed": false
   },
   "outputs": [
    {
     "name": "stdout",
     "output_type": "stream",
     "text": [
      "True\n"
     ]
    }
   ],
   "source": [
    "a = 'abcdedcba'\n",
    "print a == a[::-1]"
   ]
  },
  {
   "cell_type": "code",
   "execution_count": 68,
   "metadata": {
    "collapsed": true
   },
   "outputs": [],
   "source": [
    "a = 3 \n",
    "b = 4"
   ]
  },
  {
   "cell_type": "code",
   "execution_count": null,
   "metadata": {
    "collapsed": true
   },
   "outputs": [],
   "source": []
  }
 ],
 "metadata": {
  "kernelspec": {
   "display_name": "Python 2",
   "language": "python",
   "name": "python2"
  },
  "language_info": {
   "codemirror_mode": {
    "name": "ipython",
    "version": 2
   },
   "file_extension": ".py",
   "mimetype": "text/x-python",
   "name": "python",
   "nbconvert_exporter": "python",
   "pygments_lexer": "ipython2",
   "version": "2.7.10"
  }
 },
 "nbformat": 4,
 "nbformat_minor": 0
}
