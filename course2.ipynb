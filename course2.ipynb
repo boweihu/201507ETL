{
 "cells": [
  {
   "cell_type": "code",
   "execution_count": 2,
   "metadata": {
    "collapsed": false
   },
   "outputs": [
    {
     "name": "stdout",
     "output_type": "stream",
     "text": [
      "['asap', 3]\n",
      "['w', 'o', 'r', 'd']\n",
      "[['list'], ['of', 'lists']]\n",
      "['a', 1]\n"
     ]
    },
    {
     "data": {
      "text/plain": [
       "8"
      ]
     },
     "execution_count": 2,
     "metadata": {},
     "output_type": "execute_result"
    }
   ],
   "source": [
    "#List 可以裝載不同類型元素\n",
    "print ['asap', 3]\n",
    "print list(\"word\") \n",
    "print [['list'], ['of', 'lists']]\n",
    "print list(('a', 1))\n"
   ]
  },
  {
   "cell_type": "code",
   "execution_count": 5,
   "metadata": {
    "collapsed": false
   },
   "outputs": [
    {
     "name": "stdout",
     "output_type": "stream",
     "text": [
      "<type 'int'>\n"
     ]
    }
   ],
   "source": [
    "\n",
    "a = ['heterogeneous', 3]\n",
    "print type(a[1])"
   ]
  },
  {
   "cell_type": "code",
   "execution_count": 6,
   "metadata": {
    "collapsed": false
   },
   "outputs": [
    {
     "name": "stdout",
     "output_type": "stream",
     "text": [
      "heterogeneous hello\n"
     ]
    }
   ],
   "source": [
    "print a[0] + ' hello'"
   ]
  },
  {
   "cell_type": "code",
   "execution_count": 7,
   "metadata": {
    "collapsed": false
   },
   "outputs": [
    {
     "name": "stdout",
     "output_type": "stream",
     "text": [
      "8\n"
     ]
    }
   ],
   "source": [
    "print a[1]  + 5 "
   ]
  },
  {
   "cell_type": "code",
   "execution_count": 8,
   "metadata": {
    "collapsed": false
   },
   "outputs": [
    {
     "name": "stdout",
     "output_type": "stream",
     "text": [
      "5\n",
      "[7, 's']\n",
      "s\n",
      "7\n",
      "[7, 's']\n",
      "[5, 7]\n",
      "['s', 7, 6, 5]\n",
      "4\n",
      "[5, 's']\n"
     ]
    }
   ],
   "source": [
    "a = [5, 6, 7, 's'] # a = [5 6 7 ‘s’] \n",
    "print a[0] # 5\n",
    "print a[2:4] # [7, ‘s’] \n",
    "print a[-1] # ‘s’ \n",
    "print a[-2] # 7\n",
    "print a[2:] # [7, ‘s’]\n",
    "print a[::2] # [5, 7]\n",
    "print a[::-1] # [‘s’, 7, 6, 5]\n",
    "print len(a) # 4\n",
    "print [min(a), max(a)] # [5, ‘s’]"
   ]
  },
  {
   "cell_type": "code",
   "execution_count": 11,
   "metadata": {
    "collapsed": false
   },
   "outputs": [
    {
     "name": "stdout",
     "output_type": "stream",
     "text": [
      "adgjmpsvy\n",
      "zyxwvutsrqponmlkjihgfedcba\n",
      "cegi\n"
     ]
    }
   ],
   "source": [
    "a = 'abcdefghijklmnopqrstuvwxyz' \n",
    "print a[::3] # for(i = 0 ; i< len(a); i +=3)\n",
    "print a[::-1] # for(i = len(a) ; i > 0 ; i --)\n",
    "print a[2:10:2] # for(i = 2 ; i< 10; i +=2)"
   ]
  },
  {
   "cell_type": "code",
   "execution_count": 12,
   "metadata": {
    "collapsed": false
   },
   "outputs": [
    {
     "name": "stdout",
     "output_type": "stream",
     "text": [
      "[5, 6, 7, 8]\n",
      "[5, 6, 7]\n",
      "[5, 6, 7, 2]\n",
      "[2, 5, 6, 7]\n",
      "[7, 6, 5, 2]\n"
     ]
    }
   ],
   "source": [
    "a = [5, 6, 7, 8]\n",
    "print a\n",
    "a.pop() # a = [5, 6, 7]\n",
    "print a\n",
    "a.append(2) # a = [5, 6, 7, 2]\n",
    "print a\n",
    "a.sort() # a = [2, 5, 6, 7]\n",
    "print a\n",
    "a.reverse() # a = [7, 6, 5, 2]\n",
    "print a\n"
   ]
  },
  {
   "cell_type": "code",
   "execution_count": 14,
   "metadata": {
    "collapsed": false
   },
   "outputs": [
    {
     "name": "stdout",
     "output_type": "stream",
     "text": [
      "False\n",
      "True\n"
     ]
    }
   ],
   "source": [
    "a = 'this is a book, I loves qoo'\n",
    "\n",
    "print 'cat' in a\n",
    "print 'qoo' in a\n"
   ]
  },
  {
   "cell_type": "code",
   "execution_count": 22,
   "metadata": {
    "collapsed": false
   },
   "outputs": [
    {
     "name": "stdout",
     "output_type": "stream",
     "text": [
      "「高雄氣爆才40幾個」　侯友宜被譙翻(20503)\n"
     ]
    }
   ],
   "source": [
    "import requests\n",
    "from bs4 import BeautifulSoup\n",
    "res = requests.get('http://www.appledaily.com.tw/realtimenews/section/new/')\n",
    "soup = BeautifulSoup(res.text)\n",
    "for ele in soup.select('#maincontent a'):\n",
    "    if len(ele.select('font')) > 0:\n",
    "        if '高雄'.decode('utf-8') in ele.select('font')[0].text :\n",
    "            print ele.select('font')[0].text"
   ]
  },
  {
   "cell_type": "code",
   "execution_count": 25,
   "metadata": {
    "collapsed": false
   },
   "outputs": [
    {
     "name": "stdout",
     "output_type": "stream",
     "text": [
      "a: [1, 2, 3]\n",
      "b: [1, 2, 3]\n",
      "a: [1, 2000, 3]\n",
      "b: [1, 2000, 3]\n"
     ]
    },
    {
     "data": {
      "text/plain": [
       "[1, 2000, 3]"
      ]
     },
     "execution_count": 25,
     "metadata": {},
     "output_type": "execute_result"
    }
   ],
   "source": [
    "a = [1, 2, 3]\n",
    "b = a\n",
    "print 'a:', a\n",
    "print 'b:', b\n",
    "a[1] = 2000\n",
    "print 'a:', a\n",
    "print 'b:', b\n",
    "b\n"
   ]
  },
  {
   "cell_type": "code",
   "execution_count": 28,
   "metadata": {
    "collapsed": false
   },
   "outputs": [
    {
     "name": "stdout",
     "output_type": "stream",
     "text": [
      "aa: [1, 2, 3]\n",
      "a: [1, 2, 3]\n",
      "aa: [1, 2, 3]\n",
      "a: [1, 2000, 3]\n"
     ]
    }
   ],
   "source": [
    "a = [1, 2, 3]\n",
    "import copy\n",
    "aa = copy.deepcopy(a) # Deep Copy\n",
    "print 'aa:', aa\n",
    "print 'a:', a\n",
    "a[1] = 2000\n",
    "print 'aa:', aa\n",
    "print 'a:', a\n",
    "#print aa\n"
   ]
  },
  {
   "cell_type": "code",
   "execution_count": 29,
   "metadata": {
    "collapsed": false
   },
   "outputs": [
    {
     "name": "stdout",
     "output_type": "stream",
     "text": [
      "[1, 4, 9, 16]\n"
     ]
    }
   ],
   "source": [
    "nums = [1, 2, 3, 4]\n",
    "ary = [] \n",
    "for n in nums:\n",
    "    ary.append(n*n)\n",
    "print ary"
   ]
  },
  {
   "cell_type": "code",
   "execution_count": 30,
   "metadata": {
    "collapsed": false
   },
   "outputs": [
    {
     "name": "stdout",
     "output_type": "stream",
     "text": [
      "[1, 4, 9, 16]\n"
     ]
    }
   ],
   "source": [
    "nums = [1, 2, 3, 4]\n",
    "squares = [ n * n for n in nums ]   \n",
    "print squares"
   ]
  },
  {
   "cell_type": "code",
   "execution_count": 33,
   "metadata": {
    "collapsed": false
   },
   "outputs": [
    {
     "name": "stdout",
     "output_type": "stream",
     "text": [
      "[2, 1]\n",
      "[2, 1]\n",
      "['APPLE', 'BANNANA']\n",
      "['APPLE', 'BANNANA']\n"
     ]
    }
   ],
   "source": [
    "## 篩選 values <= 2\n",
    "nums = [2, 8, 1, 6]\n",
    "small = [ n for n in nums if n <= 2 ]  ## [2, 1]\n",
    "print small\n",
    "\n",
    "ary = [] \n",
    "for n in nums:\n",
    "    if n <=2:\n",
    "        ary.append(n)\n",
    "print ary\n",
    "\n",
    "\n",
    "## 篩選 包含 'a' 的 fruits, 並轉換為大寫\n",
    "fruits = ['apple', 'cherry', 'bannana', 'lemon']\n",
    "afruits = [ s.upper() for s in fruits if 'a' in s ]\n",
    "print afruits\n",
    "\n",
    "ary= [] \n",
    "for s in fruits:\n",
    "    if 'a' in s:\n",
    "        ary.append(s.upper())\n",
    "print ary\n"
   ]
  },
  {
   "cell_type": "code",
   "execution_count": null,
   "metadata": {
    "collapsed": true
   },
   "outputs": [],
   "source": [
    "contact_list = []\n",
    "while True:\n",
    "    contact = input(\"Add Contact: \")\n",
    "    if contact == 'Done':\n",
    "        break\n",
    "    else:\n",
    "        contact_list.append(contact)\n",
    "        print \"You have %d contacts\" % (len(contact_list))\n",
    "print \"Your Contacts: %s\"%(contact_list)\n"
   ]
  },
  {
   "cell_type": "code",
   "execution_count": 35,
   "metadata": {
    "collapsed": false
   },
   "outputs": [
    {
     "name": "stdout",
     "output_type": "stream",
     "text": [
      "100\n"
     ]
    }
   ],
   "source": [
    "cnt = 0\n",
    "while True:\n",
    "    if cnt >=100:\n",
    "        break\n",
    "    cnt +=1\n",
    "print cnt\n",
    "    "
   ]
  },
  {
   "cell_type": "code",
   "execution_count": 39,
   "metadata": {
    "collapsed": false
   },
   "outputs": [
    {
     "name": "stdout",
     "output_type": "stream",
     "text": [
      "Add Contacts:123\n",
      "You have 1 contacts\n",
      "Add Contacts:123\n",
      "You have 2 contacts\n",
      "Add Contacts:Done\n",
      "Your Contacts: ['123', '123']\n"
     ]
    }
   ],
   "source": [
    "contact_list = [] \n",
    "while True:\n",
    "    contact = raw_input(\"Add Contacts:\")\n",
    "    if contact == 'Done':\n",
    "        break\n",
    "    else:\n",
    "        contact_list.append(contact)\n",
    "        print \"You have %d contacts\" % (len(contact_list))\n",
    "print \"Your Contacts: %s\"%(contact_list)"
   ]
  },
  {
   "cell_type": "code",
   "execution_count": 49,
   "metadata": {
    "collapsed": false
   },
   "outputs": [],
   "source": [
    "import requests\n",
    "from bs4 import BeautifulSoup\n",
    "import re\n",
    "ary = []\n",
    "for i in range(1,20):\n",
    "    res = requests.get('http://www.appledaily.com.tw/realtimenews/section/new/%d'%(i))\n",
    "    soup = BeautifulSoup(res.text)\n",
    "    for ele in soup.select('#maincontent a'):\n",
    "        if len(ele.select('font')) > 0:\n",
    "            m = re.match('(.*)\\((\\d+)\\)', ele.select('font')[0].text)\n",
    "            if m:\n",
    "                ary.append({'title':m.group(1), 'count':int(m.group(2))})"
   ]
  },
  {
   "cell_type": "code",
   "execution_count": 52,
   "metadata": {
    "collapsed": false
   },
   "outputs": [
    {
     "data": {
      "text/html": [
       "<div style=\"max-height:1000px;max-width:1500px;overflow:auto;\">\n",
       "<table border=\"1\" class=\"dataframe\">\n",
       "  <thead>\n",
       "    <tr style=\"text-align: right;\">\n",
       "      <th></th>\n",
       "      <th>count</th>\n",
       "      <th>title</th>\n",
       "    </tr>\n",
       "  </thead>\n",
       "  <tbody>\n",
       "    <tr>\n",
       "      <th>227</th>\n",
       "      <td>514230</td>\n",
       "      <td>【更新】屁孩ＧＧ了！一次撞兩台　名車＋跑...</td>\n",
       "    </tr>\n",
       "    <tr>\n",
       "      <th>478</th>\n",
       "      <td>394269</td>\n",
       "      <td>【更新】惡房東張淑晶又告人　這回踢鐵板</td>\n",
       "    </tr>\n",
       "    <tr>\n",
       "      <th>481</th>\n",
       "      <td>269684</td>\n",
       "      <td>【獨家】2賤狼撿屍　載到凶案現場性侵</td>\n",
       "    </tr>\n",
       "    <tr>\n",
       "      <th>428</th>\n",
       "      <td>267540</td>\n",
       "      <td>結婚前六天　才知婚禮場地「兩個新娘」！</td>\n",
       "    </tr>\n",
       "    <tr>\n",
       "      <th>521</th>\n",
       "      <td>182504</td>\n",
       "      <td>鯉魚刺得不像　少年父怒告刺青師</td>\n",
       "    </tr>\n",
       "  </tbody>\n",
       "</table>\n",
       "</div>"
      ],
      "text/plain": [
       "      count                    title\n",
       "227  514230  ����啜�撅�酋嚗改憫鈭��銝�活����啜����嚗��...\n",
       "478  394269      ����啜��⊥��勗撐瘛�����鈭箝����頦ａ���\n",
       "481  269684       ���摰嗚�2鞈斤��踹�����啣�獢���湔�靘�\n",
       "428  267540      蝯�����憭押����憍�旨�游�������憡��嚗�\n",
       "521  182504          攳���箏�銝�����撟渡�����粹�撣�"
      ]
     },
     "execution_count": 52,
     "metadata": {},
     "output_type": "execute_result"
    }
   ],
   "source": [
    "import pandas as pd\n",
    "df = pd.DataFrame(ary)\n",
    "df.sort(['count'], ascending=False).head()"
   ]
  },
  {
   "cell_type": "code",
   "execution_count": 53,
   "metadata": {
    "collapsed": false
   },
   "outputs": [
    {
     "name": "stdout",
     "output_type": "stream",
     "text": [
      "9 was not in the list\n",
      "9 was not in the list\n",
      "9 was not in the list\n",
      "9 was not in the list\n",
      "9 was not in the list\n",
      "9 was not in the list\n",
      "9 was not in the list\n",
      "8 found\n",
      "9 found!\n"
     ]
    }
   ],
   "source": [
    "#if - else\n",
    "a = 9\n",
    "b = 8\n",
    "for i in range(1,10):\n",
    "    if i == a:\n",
    "        print(str(a) + ' found!')\n",
    "        break\n",
    "    elif i == b:\n",
    "        print str(b) + ' found'\n",
    "    else:\n",
    "        print(str(a) + ' was not in the list')\n"
   ]
  },
  {
   "cell_type": "code",
   "execution_count": 54,
   "metadata": {
    "collapsed": false
   },
   "outputs": [
    {
     "name": "stdout",
     "output_type": "stream",
     "text": [
      "1 2 3 4 5 6 7 8 9\n"
     ]
    }
   ],
   "source": [
    "# from 1 to 10\n",
    "for i in range(1,10): #for(int i=1;  i< 10 ; i++)\n",
    "    print i,\n",
    "print"
   ]
  },
  {
   "cell_type": "code",
   "execution_count": 55,
   "metadata": {
    "collapsed": false
   },
   "outputs": [
    {
     "name": "stdout",
     "output_type": "stream",
     "text": [
      "1 3 5 7 9\n"
     ]
    }
   ],
   "source": [
    "for i in range(1,10,2):\n",
    "    print i,\n",
    "print\n"
   ]
  },
  {
   "cell_type": "code",
   "execution_count": 56,
   "metadata": {
    "collapsed": false
   },
   "outputs": [
    {
     "name": "stdout",
     "output_type": "stream",
     "text": [
      "1 2 3 4 5\n"
     ]
    }
   ],
   "source": [
    "a = [1,2,3,4,5]\n",
    "for i in a:\n",
    "    print i,"
   ]
  },
  {
   "cell_type": "code",
   "execution_count": 57,
   "metadata": {
    "collapsed": false
   },
   "outputs": [
    {
     "name": "stdout",
     "output_type": "stream",
     "text": [
      "5050\n"
     ]
    }
   ],
   "source": [
    "i =0\n",
    "sum = 0 \n",
    "while(i < 101):\n",
    "    sum += i\n",
    "    i +=1\n",
    "print sum\n"
   ]
  },
  {
   "cell_type": "code",
   "execution_count": 59,
   "metadata": {
    "collapsed": false
   },
   "outputs": [],
   "source": [
    "def say_hello():\n",
    "    print \"hello world\"\n"
   ]
  },
  {
   "cell_type": "code",
   "execution_count": 60,
   "metadata": {
    "collapsed": false
   },
   "outputs": [
    {
     "name": "stdout",
     "output_type": "stream",
     "text": [
      "hello world\n"
     ]
    }
   ],
   "source": [
    "say_hello()"
   ]
  },
  {
   "cell_type": "code",
   "execution_count": 62,
   "metadata": {
    "collapsed": false
   },
   "outputs": [
    {
     "name": "stdout",
     "output_type": "stream",
     "text": [
      "5\n"
     ]
    }
   ],
   "source": [
    "def addNum(a, b):#Define Function\n",
    "    return a+b #Return function \n",
    "\n",
    "print addNum(1,4)"
   ]
  },
  {
   "cell_type": "code",
   "execution_count": 63,
   "metadata": {
    "collapsed": false
   },
   "outputs": [
    {
     "name": "stdout",
     "output_type": "stream",
     "text": [
      "4.0\n"
     ]
    }
   ],
   "source": [
    "import math\n",
    "a = math.ceil(3.6)\n",
    "print a \n"
   ]
  },
  {
   "cell_type": "code",
   "execution_count": 65,
   "metadata": {
    "collapsed": false
   },
   "outputs": [
    {
     "name": "stdout",
     "output_type": "stream",
     "text": [
      "<module 'math' (built-in)>\n",
      "<module 'requests' from 'C:\\Python27\\lib\\site-packages\\requests\\__init__.pyc'>\n"
     ]
    }
   ],
   "source": [
    "import math #Importing Modules\n",
    "print math #Print Content\n",
    "\n",
    "import requests\n",
    "print requests\n",
    "\n"
   ]
  },
  {
   "cell_type": "code",
   "execution_count": 70,
   "metadata": {
    "collapsed": false,
    "scrolled": true
   },
   "outputs": [
    {
     "name": "stdout",
     "output_type": "stream",
     "text": [
      "_clear_type_cache\n",
      "argv\n",
      "exc_clear\n",
      "py3kwarning\n",
      "warnoptions\n",
      "['C:\\\\Python27\\\\lib\\\\site-packages\\\\IPython\\\\kernel\\\\__main__.py', '-f', 'C:\\\\Users\\\\david\\\\.ipython\\\\profile_default\\\\security\\\\kernel-bb132c2c-e7fa-4723-9597-c82b7b713383.json', '--profile-dir', 'C:\\\\Users\\\\david\\\\.ipython\\\\profile_default']\n",
      "[1, 2, 3, 4]\n"
     ]
    }
   ],
   "source": [
    "import sys #Importing Modules\n",
    "for ele in dir(sys):\n",
    "    if 'ar' in ele:\n",
    "        print ele\n",
    "        \n",
    "print(sys.argv) #Print Argument\n",
    "\n",
    "print range(1,len(sys.argv))"
   ]
  },
  {
   "cell_type": "code",
   "execution_count": 72,
   "metadata": {
    "collapsed": false
   },
   "outputs": [
    {
     "name": "stdout",
     "output_type": "stream",
     "text": [
      "1\n",
      "2\n",
      "3\n",
      "4\n",
      "5\n",
      "6\n",
      "7\n",
      "8\n",
      "9\n",
      "[1, 2, 3, 4, 5, 6, 7, 8, 9]\n"
     ]
    }
   ],
   "source": [
    "for ele in range(1,10):\n",
    "    print ele\n",
    "    \n",
    "print range(1,10)"
   ]
  },
  {
   "cell_type": "code",
   "execution_count": 74,
   "metadata": {
    "collapsed": false
   },
   "outputs": [
    {
     "name": "stdout",
     "output_type": "stream",
     "text": [
      "Add Contact: 123132\n",
      "You have 1 contacts\n",
      "Add Contact: sdfsdfs\n",
      "You have 2 contacts\n",
      "Add Contact: Done\n",
      "Your Contacts: ['123132', 'sdfsdfs']\n"
     ]
    }
   ],
   "source": [
    "def add_contact(name):\n",
    "    contact_list.append(name)\n",
    "    print \"You have %d contacts\" % (len(contact_list))\n",
    "\n",
    "def get_contact():\n",
    "    print \"Your Contacts: %s\"%(contact_list)\n",
    "\n",
    "contact_list = []\n",
    "\n",
    "def main():    \n",
    "    while True:\n",
    "        contact = raw_input(\"Add Contact: \")\n",
    "        if contact == 'Done':\n",
    "            break\n",
    "        else:\n",
    "            add_contact(contact)\n",
    "    get_contact()\n",
    "\n",
    "if __name__ == \"__main__\":\n",
    "    main()\n"
   ]
  },
  {
   "cell_type": "code",
   "execution_count": 1,
   "metadata": {
    "collapsed": false
   },
   "outputs": [
    {
     "name": "stdout",
     "output_type": "stream",
     "text": [
      "Add Contact: sfjidjfdsif\n",
      "You have 1 contacts\n",
      "Add Contact: Dine\n",
      "You have 2 contacts\n",
      "Add Contact: Done\n",
      "Your Contacts: ['sfjidjfdsif', 'Dine']\n"
     ]
    }
   ],
   "source": [
    "def add_contact(name):\n",
    "    contact_list.append(name)\n",
    "    print \"You have %d contacts\" % (len(contact_list))\n",
    "\n",
    "def get_contact():\n",
    "    print \"Your Contacts: %s\"%(contact_list)\n",
    "\n",
    "contact_list = []\n",
    "\n",
    "def main():    \n",
    "    while True:\n",
    "        contact = raw_input(\"Add Contact: \")\n",
    "        if contact == 'Done':\n",
    "            break\n",
    "        else:\n",
    "            add_contact(contact)\n",
    "    get_contact()\n",
    "    \n",
    "main()\n"
   ]
  },
  {
   "cell_type": "code",
   "execution_count": 2,
   "metadata": {
    "collapsed": false
   },
   "outputs": [
    {
     "name": "stdout",
     "output_type": "stream",
     "text": [
      "3000\n"
     ]
    }
   ],
   "source": [
    "a = range(1,30000)\n",
    "for page in a:\n",
    "    if page == 3000:\n",
    "        print page"
   ]
  },
  {
   "cell_type": "code",
   "execution_count": 3,
   "metadata": {
    "collapsed": false
   },
   "outputs": [
    {
     "name": "stdout",
     "output_type": "stream",
     "text": [
      "3000\n"
     ]
    }
   ],
   "source": [
    "a = {'1':1, '2':3, '3000':3000}\n",
    "print a['3000']"
   ]
  },
  {
   "cell_type": "code",
   "execution_count": 14,
   "metadata": {
    "collapsed": false
   },
   "outputs": [],
   "source": [
    "import requests\n",
    "from bs4 import BeautifulSoup\n",
    "import re\n",
    "ary = []\n",
    "ind  = []\n",
    "res = requests.get('http://www.appledaily.com.tw/realtimenews/section/new/1')\n",
    "soup = BeautifulSoup(res.text)\n",
    "for ele in soup.select('.rtddt'):\n",
    "    if len(ele.select('font')) > 0:\n",
    "        ind.append(ele.select('a')[0]['href'])\n",
    "        ary.append(ele.select('font')[0].text)\n",
    "                "
   ]
  },
  {
   "cell_type": "code",
   "execution_count": 21,
   "metadata": {
    "collapsed": false
   },
   "outputs": [
    {
     "name": "stdout",
     "output_type": "stream",
     "text": [
      "0\n",
      "1\n",
      "2\n",
      "3\n",
      "4\n",
      "5\n",
      "6\n",
      "7\n",
      "8\n",
      "9\n",
      "10\n",
      "11\n",
      "12\n",
      "13\n",
      "14\n",
      "15\n",
      "16\n",
      "17\n",
      "18\n",
      "19\n",
      "20\n",
      "/realtimenews/article/property/20150724/654395/不滿修法　百位農民北上抗議\n",
      "21\n",
      "22\n",
      "23\n",
      "24\n",
      "25\n",
      "26\n",
      "27\n",
      "28\n",
      "29\n"
     ]
    }
   ],
   "source": [
    "for id, ele in  enumerate(ary):\n",
    "    print id\n",
    "    if '農民'.decode('utf-8') in ele:\n",
    "        print ind[id]"
   ]
  },
  {
   "cell_type": "code",
   "execution_count": 54,
   "metadata": {
    "collapsed": false
   },
   "outputs": [
    {
     "name": "stdout",
     "output_type": "stream",
     "text": [
      "鄭明典：今年恐有超強聖嬰事件(0)\n",
      "反課綱最新　1被捕學生低血壓送醫(0)\n",
      "iPhone 6s正面曝光　跟i6差沒多...(0)\n",
      "跳橋自殺沒死　謊報遇劫反吃官司(0)\n",
      "車太炫不敵爆乳吸睛(0)\n",
      "涉收300萬護航廠商　前立委鍾紹和獲更審(90)\n",
      "日球星來台偷車？　明星臉惹禍(157)\n",
      "【更新】反課綱聯盟：衝教部是所有學生決定(4979)\n",
      "高市下周二停水　影響1.2萬戶(155)\n",
      "記者採訪遭逮　柯：警方將增新聞官(31)\n",
      "【更新】5大魅力告訴你    為何要愛棉...(4365)\n",
      "反課綱聯盟聲明全文：教育部倒行逆施(10)\n",
      "美又傳槍擊案　歐巴馬：任內最大挫敗(417)\n",
      "【更新】獨立記者直擊學生攻教育部　控警「...(2191)\n",
      "TFBOYS吸女粉狂攝　偏愛媽媽味(193)\n",
      "內褲男跳窗　但不是被抓姦(415)\n",
      "鼻酸～兒夭折　媽媽緊抱不忍放(1609)\n",
      "大巨蛋大底工程 　遠雄：如期完成(846)\n",
      "吳思華：某團體隱身於後指導是不道德行為(1773)\n",
      "教育部聲明全文：忍痛依法提告(1378)\n",
      "無視3000元　他家被潑紅漆(1459)\n",
      "【今周刊】吳念真: 為了下一代 我們什麼...(1528)\n",
      "【更新】邀曾永權操盤？　洪秀柱否認(2135)\n",
      "【更新】3記者遭逮　柯P：警方坦承未依S...(26192)\n",
      "吳思華出面：對闖教部學生提告(8451)\n",
      "【獨家】密函曝光 　豪門婚變調監視器的竟...(37459)\n",
      "華碩財務長張偉明驚傳過世(4388)\n",
      "國衛院糖尿病新藥　2018年上市(582)\n",
      "《自由》工會：記者和警察均是值勤　非罪犯(60)\n",
      "零下22度想走秀　名模差點被吹倒(2207)\n"
     ]
    }
   ],
   "source": [
    "import requests\n",
    "from bs4 import BeautifulSoup\n",
    "import re\n",
    "dic = {}\n",
    "res = requests.get('http://www.appledaily.com.tw/realtimenews/section/new/1')\n",
    "soup = BeautifulSoup(res.text)\n",
    "for ele in soup.select('.rtddt'):\n",
    "    if len(ele.select('font')) > 0:\n",
    "        dic[ele.select('font')[0].text.encode('utf-8')] = ele.select('a')[0]['href']\n",
    "        print ele.select('font')[0].text.encode('utf-8')\n",
    "                "
   ]
  },
  {
   "cell_type": "code",
   "execution_count": 55,
   "metadata": {
    "collapsed": false
   },
   "outputs": [
    {
     "name": "stdout",
     "output_type": "stream",
     "text": [
      "/realtimenews/article/life/20150724/654401/國衛院糖尿病新藥　2018年上市\n"
     ]
    }
   ],
   "source": [
    "print dic['國衛院糖尿病新藥　2018年上市(582)']"
   ]
  },
  {
   "cell_type": "code",
   "execution_count": 56,
   "metadata": {
    "collapsed": false
   },
   "outputs": [
    {
     "name": "stdout",
     "output_type": "stream",
     "text": [
      "{'a': 100, 'c': 0.98, 'b': 'yes'}\n",
      "['a', 'c', 'b']\n",
      "[100, 0.98, 'yes']\n",
      "100\n",
      "100\n"
     ]
    }
   ],
   "source": [
    "#declare dictionary \n",
    "dic = {'a':100, 'b':\"yes\", 'c':0.98} \n",
    "print dic \n",
    "\n",
    "#get keys in dictionary \n",
    "print dic.keys() \n",
    "\n",
    "#get values in dictionary \n",
    "print dic.values() \n",
    "\n",
    "#get value of given key \n",
    "print dic['a'] \n",
    "\n",
    "#get value of given key \n",
    "print dic.get('a')\n",
    "\n"
   ]
  },
  {
   "cell_type": "code",
   "execution_count": 59,
   "metadata": {
    "collapsed": false
   },
   "outputs": [
    {
     "name": "stdout",
     "output_type": "stream",
     "text": [
      "None\n"
     ]
    },
    {
     "ename": "KeyError",
     "evalue": "'d'",
     "output_type": "error",
     "traceback": [
      "\u001b[1;31m---------------------------------------------------------------------------\u001b[0m",
      "\u001b[1;31mKeyError\u001b[0m                                  Traceback (most recent call last)",
      "\u001b[1;32m<ipython-input-59-06d48946a286>\u001b[0m in \u001b[0;36m<module>\u001b[1;34m()\u001b[0m\n\u001b[0;32m      1\u001b[0m \u001b[0mdic\u001b[0m \u001b[1;33m=\u001b[0m \u001b[1;33m{\u001b[0m\u001b[1;34m'a'\u001b[0m\u001b[1;33m:\u001b[0m\u001b[1;36m100\u001b[0m\u001b[1;33m,\u001b[0m \u001b[1;34m'b'\u001b[0m\u001b[1;33m:\u001b[0m\u001b[1;34m\"yes\"\u001b[0m\u001b[1;33m,\u001b[0m \u001b[1;34m'c'\u001b[0m\u001b[1;33m:\u001b[0m\u001b[1;36m0.98\u001b[0m\u001b[1;33m}\u001b[0m\u001b[1;33m\u001b[0m\u001b[0m\n\u001b[0;32m      2\u001b[0m \u001b[1;32mprint\u001b[0m \u001b[0mdic\u001b[0m\u001b[1;33m.\u001b[0m\u001b[0mget\u001b[0m\u001b[1;33m(\u001b[0m\u001b[1;34m'd'\u001b[0m\u001b[1;33m)\u001b[0m\u001b[1;33m\u001b[0m\u001b[0m\n\u001b[1;32m----> 3\u001b[1;33m \u001b[1;32mprint\u001b[0m \u001b[0mdic\u001b[0m\u001b[1;33m[\u001b[0m\u001b[1;34m'd'\u001b[0m\u001b[1;33m]\u001b[0m\u001b[1;33m\u001b[0m\u001b[0m\n\u001b[0m",
      "\u001b[1;31mKeyError\u001b[0m: 'd'"
     ]
    }
   ],
   "source": [
    "dic = {'a':100, 'b':\"yes\", 'c':0.98} \n",
    "print dic.get('d')\n",
    "print dic['d']\n"
   ]
  },
  {
   "cell_type": "code",
   "execution_count": 60,
   "metadata": {
    "collapsed": false
   },
   "outputs": [
    {
     "name": "stdout",
     "output_type": "stream",
     "text": [
      "{'a': 100, 'c': 0.98, 'b': 'yes', 'd': 'new'}\n",
      "{'a': 100, 'c': 0.98, 'b': 'yes', 'e': 123, 'd': 'new', 'f': 789}\n",
      "a 100\n",
      "c 0.98\n",
      "b yes\n",
      "e 123\n",
      "d new\n",
      "f 789\n"
     ]
    }
   ],
   "source": [
    "#add entry into dictionary \n",
    "dic['d'] = 'new' \n",
    "print dic \n",
    "\n",
    "#add entry into dictionary \n",
    "dic.update({'e':123, 'f':789}) \n",
    "print dic \n",
    "\n",
    "# iter the dictionary \n",
    "for rec in dic: \n",
    "    print rec, dic[rec]"
   ]
  },
  {
   "cell_type": "code",
   "execution_count": 61,
   "metadata": {
    "collapsed": true
   },
   "outputs": [],
   "source": [
    "'''\n",
    "switch(n)\n",
    "    case n == 1:\n",
    "       case 1;\n",
    "    case n == 2:\n",
    "       case 2;\n",
    "    defualt:\n",
    "       default case;\n",
    "'''\n",
    "\n",
    "def switch_case(n):\n",
    "    return {'1': 'case1', '2': 'case2'}.get(n)"
   ]
  },
  {
   "cell_type": "code",
   "execution_count": 65,
   "metadata": {
    "collapsed": false
   },
   "outputs": [
    {
     "name": "stdout",
     "output_type": "stream",
     "text": [
      "case1\n",
      "case2\n",
      "None\n"
     ]
    }
   ],
   "source": [
    "print switch_case('1')\n",
    "print switch_case('2')\n",
    "print switch_case('3')"
   ]
  },
  {
   "cell_type": "code",
   "execution_count": 66,
   "metadata": {
    "collapsed": false
   },
   "outputs": [
    {
     "name": "stdout",
     "output_type": "stream",
     "text": [
      "case1\n",
      "case2\n",
      "default case\n"
     ]
    }
   ],
   "source": [
    "def switch_case(n):\n",
    "    return {'1': 'case1', '2': 'case2'}.get(n, 'default case')\n",
    "print switch_case('1')\n",
    "print switch_case('2')\n",
    "print switch_case('3')"
   ]
  },
  {
   "cell_type": "code",
   "execution_count": 68,
   "metadata": {
    "collapsed": false
   },
   "outputs": [
    {
     "name": "stdout",
     "output_type": "stream",
     "text": [
      "<type 'list'>\n",
      "['__add__', '__class__', '__contains__', '__delattr__', '__delitem__', '__delslice__', '__doc__', '__eq__', '__format__', '__ge__', '__getattribute__', '__getitem__', '__getslice__', '__gt__', '__hash__', '__iadd__', '__imul__', '__init__', '__iter__', '__le__', '__len__', '__lt__', '__mul__', '__ne__', '__new__', '__reduce__', '__reduce_ex__', '__repr__', '__reversed__', '__rmul__', '__setattr__', '__setitem__', '__setslice__', '__sizeof__', '__str__', '__subclasshook__', 'append', 'count', 'extend', 'index', 'insert', 'pop', 'remove', 'reverse', 'sort']\n"
     ]
    }
   ],
   "source": [
    "a = [1,2,3]\n",
    "print type(a)\n",
    "print dir(a)"
   ]
  },
  {
   "cell_type": "code",
   "execution_count": 69,
   "metadata": {
    "collapsed": false
   },
   "outputs": [
    {
     "name": "stdout",
     "output_type": "stream",
     "text": [
      "<type 'tuple'>\n",
      "['__add__', '__class__', '__contains__', '__delattr__', '__doc__', '__eq__', '__format__', '__ge__', '__getattribute__', '__getitem__', '__getnewargs__', '__getslice__', '__gt__', '__hash__', '__init__', '__iter__', '__le__', '__len__', '__lt__', '__mul__', '__ne__', '__new__', '__reduce__', '__reduce_ex__', '__repr__', '__rmul__', '__setattr__', '__sizeof__', '__str__', '__subclasshook__', 'count', 'index']\n"
     ]
    }
   ],
   "source": [
    "b = (1,2,3)\n",
    "print type(b)\n",
    "print dir(b)"
   ]
  },
  {
   "cell_type": "code",
   "execution_count": 72,
   "metadata": {
    "collapsed": false
   },
   "outputs": [
    {
     "name": "stdout",
     "output_type": "stream",
     "text": [
      "0\n",
      "1\n",
      "(0, 1)\n"
     ]
    }
   ],
   "source": [
    "'''\n",
    "int a = 0;\n",
    "int b = 1;\n",
    "'''\n",
    "\n",
    "a,b = 0,1\n",
    "print a\n",
    "print b\n",
    "print (a,b)"
   ]
  },
  {
   "cell_type": "code",
   "execution_count": 73,
   "metadata": {
    "collapsed": false
   },
   "outputs": [
    {
     "name": "stdout",
     "output_type": "stream",
     "text": [
      "1\n",
      "0\n"
     ]
    }
   ],
   "source": [
    "a = 0\n",
    "b = 1\n",
    "\n",
    "c = a\n",
    "a = b\n",
    "b = c\n",
    "print a\n",
    "print b\n",
    "\n"
   ]
  },
  {
   "cell_type": "code",
   "execution_count": 74,
   "metadata": {
    "collapsed": true
   },
   "outputs": [],
   "source": [
    "a,b = b,a"
   ]
  },
  {
   "cell_type": "code",
   "execution_count": 75,
   "metadata": {
    "collapsed": false
   },
   "outputs": [
    {
     "name": "stdout",
     "output_type": "stream",
     "text": [
      "0\n",
      "1\n"
     ]
    }
   ],
   "source": [
    "print a \n",
    "print b"
   ]
  },
  {
   "cell_type": "code",
   "execution_count": 76,
   "metadata": {
    "collapsed": true
   },
   "outputs": [],
   "source": [
    "del a"
   ]
  },
  {
   "cell_type": "code",
   "execution_count": 77,
   "metadata": {
    "collapsed": false
   },
   "outputs": [
    {
     "ename": "NameError",
     "evalue": "name 'a' is not defined",
     "output_type": "error",
     "traceback": [
      "\u001b[1;31m---------------------------------------------------------------------------\u001b[0m",
      "\u001b[1;31mNameError\u001b[0m                                 Traceback (most recent call last)",
      "\u001b[1;32m<ipython-input-77-9d7b17ad5387>\u001b[0m in \u001b[0;36m<module>\u001b[1;34m()\u001b[0m\n\u001b[1;32m----> 1\u001b[1;33m \u001b[1;32mprint\u001b[0m \u001b[0ma\u001b[0m\u001b[1;33m\u001b[0m\u001b[0m\n\u001b[0m",
      "\u001b[1;31mNameError\u001b[0m: name 'a' is not defined"
     ]
    }
   ],
   "source": [
    "print a"
   ]
  },
  {
   "cell_type": "code",
   "execution_count": 78,
   "metadata": {
    "collapsed": false
   },
   "outputs": [
    {
     "name": "stdout",
     "output_type": "stream",
     "text": [
      "1\n",
      "2\n",
      "3\n"
     ]
    }
   ],
   "source": [
    "def func():\n",
    "    return 1,2,3\n",
    "\n",
    "a,b,c = func()\n",
    "\n",
    "print a\n",
    "print b\n",
    "print c\n"
   ]
  },
  {
   "cell_type": "code",
   "execution_count": 80,
   "metadata": {
    "collapsed": false
   },
   "outputs": [
    {
     "name": "stdout",
     "output_type": "stream",
     "text": [
      "0 1\n",
      "1 2\n",
      "2 3\n",
      "3 4\n",
      "4 5\n",
      "5 6\n",
      "6 7\n",
      "7 8\n",
      "8 9\n",
      "9 10\n",
      "10 11\n",
      "11 12\n",
      "12 13\n",
      "13 14\n",
      "14 15\n",
      "15 16\n",
      "16 17\n",
      "17 18\n",
      "18 19\n",
      "19 19\n"
     ]
    }
   ],
   "source": [
    "\n",
    "cnt = 0 \n",
    "for i in range(1,20):\n",
    "    print cnt, i\n",
    "    cnt += 1\n",
    "print cnt, i"
   ]
  },
  {
   "cell_type": "code",
   "execution_count": 82,
   "metadata": {
    "collapsed": false
   },
   "outputs": [
    {
     "name": "stdout",
     "output_type": "stream",
     "text": [
      "0 1\n",
      "1 2\n",
      "2 3\n",
      "3 4\n",
      "4 5\n",
      "5 6\n",
      "6 7\n",
      "7 8\n",
      "8 9\n",
      "9 10\n",
      "10 11\n",
      "11 12\n",
      "12 13\n",
      "13 14\n",
      "14 15\n",
      "15 16\n",
      "16 17\n",
      "17 18\n",
      "18 19\n"
     ]
    }
   ],
   "source": [
    "for id, i in enumerate(range(1,20)):\n",
    "    print id, i"
   ]
  },
  {
   "cell_type": "code",
   "execution_count": 86,
   "metadata": {
    "collapsed": true
   },
   "outputs": [],
   "source": [
    "class Person():\n",
    "    count = 0 # Static/class variable\n",
    "    def __init__(self, name, city):\n",
    "        self.name = name # Variable for the instance\n",
    "        self.city = city # Variable for the instance\n",
    "        Person.count += 1\n",
    "    def number_of_persons(self):\n",
    "        return Person.count"
   ]
  },
  {
   "cell_type": "code",
   "execution_count": 87,
   "metadata": {
    "collapsed": false
   },
   "outputs": [
    {
     "name": "stdout",
     "output_type": "stream",
     "text": [
      "1\n"
     ]
    }
   ],
   "source": [
    "first = Person(\"David\", \"Chiayi\")\n",
    "print first.number_of_persons()"
   ]
  },
  {
   "cell_type": "code",
   "execution_count": 88,
   "metadata": {
    "collapsed": false
   },
   "outputs": [
    {
     "name": "stdout",
     "output_type": "stream",
     "text": [
      "2\n"
     ]
    }
   ],
   "source": [
    "second = Person(\"Qoo\", \"Taipei\")\n",
    "print second.number_of_persons()"
   ]
  },
  {
   "cell_type": "code",
   "execution_count": 92,
   "metadata": {
    "collapsed": false
   },
   "outputs": [
    {
     "name": "stdout",
     "output_type": "stream",
     "text": [
      "David\n",
      "Chiayi\n",
      "Qoo\n",
      "Taipei\n"
     ]
    }
   ],
   "source": [
    "print first.name\n",
    "print first.city\n",
    "\n",
    "print second.name\n",
    "print second.city"
   ]
  },
  {
   "cell_type": "code",
   "execution_count": 93,
   "metadata": {
    "collapsed": true
   },
   "outputs": [],
   "source": [
    "class MyInteger():\n",
    "    def __init__(self, integer):\n",
    "        print \"constructor\"\n",
    "        self.integer = integer\n",
    "    def __add__(self, integer): # Overloaded '+' operator\n",
    "        if self.integer == 2 and integer == 2:\n",
    "            return 5\n",
    "        else:\n",
    "            return self.integer + integer\n",
    "\n",
    "\n",
    "        \n"
   ]
  },
  {
   "cell_type": "code",
   "execution_count": 94,
   "metadata": {
    "collapsed": false
   },
   "outputs": [
    {
     "name": "stdout",
     "output_type": "stream",
     "text": [
      "constructor\n"
     ]
    }
   ],
   "source": [
    "\n",
    "a = MyInteger(3)"
   ]
  },
  {
   "cell_type": "code",
   "execution_count": 95,
   "metadata": {
    "collapsed": false
   },
   "outputs": [
    {
     "data": {
      "text/plain": [
       "instance"
      ]
     },
     "execution_count": 95,
     "metadata": {},
     "output_type": "execute_result"
    }
   ],
   "source": [
    "type(a)"
   ]
  },
  {
   "cell_type": "code",
   "execution_count": 96,
   "metadata": {
    "collapsed": false
   },
   "outputs": [
    {
     "data": {
      "text/plain": [
       "6"
      ]
     },
     "execution_count": 96,
     "metadata": {},
     "output_type": "execute_result"
    }
   ],
   "source": [
    "a + 3"
   ]
  },
  {
   "cell_type": "code",
   "execution_count": 97,
   "metadata": {
    "collapsed": false
   },
   "outputs": [
    {
     "name": "stdout",
     "output_type": "stream",
     "text": [
      "constructor\n"
     ]
    }
   ],
   "source": [
    "b = MyInteger(2)"
   ]
  },
  {
   "cell_type": "code",
   "execution_count": 98,
   "metadata": {
    "collapsed": false
   },
   "outputs": [
    {
     "data": {
      "text/plain": [
       "5"
      ]
     },
     "execution_count": 98,
     "metadata": {},
     "output_type": "execute_result"
    }
   ],
   "source": [
    "b + 2"
   ]
  },
  {
   "cell_type": "code",
   "execution_count": 100,
   "metadata": {
    "collapsed": true
   },
   "outputs": [],
   "source": [
    "#Derived Classes\n",
    "class Vehicle():\n",
    "    def my_own(self): return True\n",
    "    \n",
    "class Bicycle(Vehicle):\n",
    "    def __init__(self, color): self.color = color\n",
    "    def has_wheels(self): return True\n",
    "\n",
    "class rent_bike(Bicycle):\n",
    "    def my_own(self): return False\n",
    "\n"
   ]
  },
  {
   "cell_type": "code",
   "execution_count": 119,
   "metadata": {
    "collapsed": false
   },
   "outputs": [
    {
     "name": "stdout",
     "output_type": "stream",
     "text": [
      "['__doc__', '__init__', '__module__', '__str__', 'color', 'has_wheels', 'my_own']\n",
      "False\n",
      "yellow\n",
      "rent_bike is yellow\n",
      "['__doc__', '__init__', '__module__', '__str__', 'color', 'has_wheels', 'my_own']\n",
      "True\n",
      "blue\n",
      "Bicycle is blue\n",
      "['__doc__', '__module__', '__str__', 'my_own']\n",
      "True\n"
     ]
    },
    {
     "ename": "AttributeError",
     "evalue": "class Vehicle has no attribute '__class__'",
     "output_type": "error",
     "traceback": [
      "\u001b[1;31m---------------------------------------------------------------------------\u001b[0m",
      "\u001b[1;31mAttributeError\u001b[0m                            Traceback (most recent call last)",
      "\u001b[1;32m<ipython-input-119-41f858d53458>\u001b[0m in \u001b[0;36m<module>\u001b[1;34m()\u001b[0m\n\u001b[0;32m     17\u001b[0m \u001b[1;32mprint\u001b[0m \u001b[0mHonda\u001b[0m\u001b[1;33m.\u001b[0m\u001b[0mmy_own\u001b[0m\u001b[1;33m(\u001b[0m\u001b[1;33m)\u001b[0m\u001b[1;33m\u001b[0m\u001b[0m\n\u001b[0;32m     18\u001b[0m \u001b[1;31m#print Vehicle.color\u001b[0m\u001b[1;33m\u001b[0m\u001b[1;33m\u001b[0m\u001b[0m\n\u001b[1;32m---> 19\u001b[1;33m \u001b[1;32mprint\u001b[0m \u001b[0mdir\u001b[0m\u001b[1;33m(\u001b[0m\u001b[0mVehicle\u001b[0m\u001b[1;33m.\u001b[0m\u001b[0m__class__\u001b[0m\u001b[1;33m)\u001b[0m\u001b[1;33m\u001b[0m\u001b[0m\n\u001b[0m",
      "\u001b[1;31mAttributeError\u001b[0m: class Vehicle has no attribute '__class__'"
     ]
    }
   ],
   "source": [
    "Ubike = rent_bike('yellow')\n",
    "print dir(Ubike)\n",
    "print Ubike.my_own()\n",
    "print Ubike.color\n",
    "print Ubike\n",
    "\n",
    "\n",
    "Giant = Bicycle('blue')\n",
    "print dir(Giant)\n",
    "print Giant.my_own()\n",
    "print Giant.color\n",
    "print Giant\n",
    "\n",
    "\n",
    "Honda = Vehicle()\n",
    "print dir(Honda)\n",
    "print Honda.my_own()\n",
    "#print Vehicle.color"
   ]
  },
  {
   "cell_type": "code",
   "execution_count": 123,
   "metadata": {
    "collapsed": false
   },
   "outputs": [
    {
     "name": "stdout",
     "output_type": "stream",
     "text": [
      "['__doc__', '__init__', '__module__', '__str__', 'has_wheels', 'my_own']\n",
      "rent_bike is yellow\n",
      "this is a vehicle\n"
     ]
    }
   ],
   "source": [
    "class Vehicle():\n",
    "    def my_own(self): return True\n",
    "    def __str__(self): return \"this is a vehicle\"\n",
    "    \n",
    "class Bicycle(Vehicle):\n",
    "    def __init__(self, color): self.color = color\n",
    "    def has_wheels(self): return True\n",
    "    def __str__(self):\n",
    "        return \"%s is %s\"%(self.__class__.__name__,self.color)\n",
    "\n",
    "class rent_bike(Bicycle):\n",
    "    def my_own(self): return False\n",
    "    \n",
    "Ubike = rent_bike('yellow')\n",
    "print Ubike\n",
    "\n",
    "\n",
    "Honda = Vehicle()\n",
    "print Honda"
   ]
  },
  {
   "cell_type": "code",
   "execution_count": 124,
   "metadata": {
    "collapsed": true
   },
   "outputs": [],
   "source": [
    "fid = open('test.txt', 'w')\n",
    "fid.write('Hello\\nWorld')\n",
    "fid.close()\n"
   ]
  },
  {
   "cell_type": "code",
   "execution_count": 129,
   "metadata": {
    "collapsed": false
   },
   "outputs": [
    {
     "name": "stdout",
     "output_type": "stream",
     "text": [
      " 磁碟區 C 中的磁碟是 S3A3928D002\n",
      " 磁碟區序號:  86F2-B59A\n",
      "\n",
      " C:\\Users\\david\\201507ETL 的目錄\n",
      "\n",
      "2015/07/24  下午 02:37    <DIR>          .\n",
      "2015/07/24  下午 02:37    <DIR>          ..\n",
      "2015/07/24  上午 10:51    <DIR>          .ipynb_checkpoints\n",
      "2015/07/20  下午 04:57            42,529 course1.ipynb\n",
      "2015/07/24  下午 02:37            44,826 course2.ipynb\n",
      "2015/07/20  下午 02:48                24 README.md\n",
      "2015/07/20  下午 02:43             6,644 slide2.ipynb\n",
      "2015/07/20  下午 03:01                99 test.py\n",
      "2015/07/24  下午 02:37                12 test.txt\n",
      "2015/07/20  下午 03:01               149 test2.py\n",
      "2015/07/24  上午 10:53            10,663 Untitled.ipynb\n",
      "               8 個檔案         104,946 位元組\n",
      "               3 個目錄  34,380,271,616 位元組可用\n"
     ]
    }
   ],
   "source": [
    "ls"
   ]
  },
  {
   "cell_type": "code",
   "execution_count": 131,
   "metadata": {
    "collapsed": false
   },
   "outputs": [
    {
     "name": "stdout",
     "output_type": "stream",
     "text": [
      "Line: Hello\n",
      "Line: World\n"
     ]
    }
   ],
   "source": [
    "#Load Hello World\n",
    "fid = open('test.txt', 'r')\n",
    "for line in fid: # Using file identifier as iterator\n",
    "    print(\"Line: \" + line.strip())\n",
    "fid.close()\n"
   ]
  },
  {
   "cell_type": "code",
   "execution_count": 132,
   "metadata": {
    "collapsed": false
   },
   "outputs": [
    {
     "name": "stdout",
     "output_type": "stream",
     "text": [
      "line Hello\n",
      "World\n"
     ]
    }
   ],
   "source": [
    "fid = open('test.txt', 'r')\n",
    "s = fid.read() # Read the entire file\n",
    "fid.close()\n",
    "print \"line\",s"
   ]
  },
  {
   "cell_type": "code",
   "execution_count": 133,
   "metadata": {
    "collapsed": false
   },
   "outputs": [
    {
     "name": "stdout",
     "output_type": "stream",
     "text": [
      "2\n"
     ]
    }
   ],
   "source": [
    "#Line Counting\n",
    "fid = open('test.txt')\n",
    "k = 0\n",
    "for line in fid:\n",
    "    k = k + 1\n",
    "print(k)\n",
    "fid.close()"
   ]
  },
  {
   "cell_type": "code",
   "execution_count": 136,
   "metadata": {
    "collapsed": false
   },
   "outputs": [
    {
     "name": "stdout",
     "output_type": "stream",
     "text": [
      "2\n",
      "2\n",
      "['Hello\\n', 'World']\n"
     ]
    }
   ],
   "source": [
    "#或簡寫為:\n",
    "print len([ line for line in open('test.txt')])\n",
    "\n",
    "ary = []\n",
    "for line in open('test.txt'):\n",
    "    ary.append(line)\n",
    "print len(ary)\n",
    "print ary\n"
   ]
  },
  {
   "cell_type": "code",
   "execution_count": 141,
   "metadata": {
    "collapsed": false
   },
   "outputs": [],
   "source": [
    "ary= [] \n",
    "for line in open('cnn.txt'):\n",
    "    ary += line.split()\n",
    "#print ary\n"
   ]
  },
  {
   "cell_type": "code",
   "execution_count": 142,
   "metadata": {
    "collapsed": true
   },
   "outputs": [],
   "source": [
    "ary.sort()"
   ]
  },
  {
   "cell_type": "code",
   "execution_count": 149,
   "metadata": {
    "collapsed": false
   },
   "outputs": [
    {
     "ename": "IndentationError",
     "evalue": "expected an indented block (<ipython-input-149-747f088cd562>, line 7)",
     "output_type": "error",
     "traceback": [
      "\u001b[1;36m  File \u001b[1;32m\"<ipython-input-149-747f088cd562>\"\u001b[1;36m, line \u001b[1;32m7\u001b[0m\n\u001b[1;33m    current_word = word\u001b[0m\n\u001b[1;37m               ^\u001b[0m\n\u001b[1;31mIndentationError\u001b[0m\u001b[1;31m:\u001b[0m expected an indented block\n"
     ]
    }
   ],
   "source": [
    "current_word = ''\n",
    "cnt = 0 \n",
    "for word in ary:\n",
    "    if not word == current_word:\n",
    "        if current_word != '':\n",
    "            #print current_word, cnt\n",
    "        current_word = word\n",
    "        cnt = 1\n",
    "    else:\n",
    "        cnt += 1\n",
    "#print current_word, cnt"
   ]
  },
  {
   "cell_type": "code",
   "execution_count": 152,
   "metadata": {
    "collapsed": false
   },
   "outputs": [
    {
     "name": "stdout",
     "output_type": "stream",
     "text": [
      "all 1\n",
      "managed 1\n",
      "chain 1\n",
      "Jim 1\n",
      "four 1\n",
      "theaters 1\n",
      "friend's 1\n",
      "Department 10\n",
      "bomb 1\n",
      "katc 1\n",
      "Louisiana 33\n",
      "shooting03 1\n",
      "shooting02 1\n",
      "shooting07 1\n",
      "shooting06 1\n",
      "witness, 1\n",
      "to 20\n",
      "enjoying 1\n",
      "road 6\n",
      "center, 4\n",
      "sitting 1\n",
      "far 1\n",
      "\"Immediately 1\n",
      "theater, 1\n",
      "theater. 2\n",
      "Conlon, 1\n",
      "telling 1\n",
      "ticket 1\n",
      "theater: 1\n",
      "broken' 1\n",
      "-- 4\n",
      "her,\" 1\n",
      "this 4\n",
      "verdict 1\n",
      "speculation 1\n",
      "Kevin 1\n",
      "bleeding 1\n",
      "19, 1\n",
      "State 12\n",
      "go 1\n",
      "instead, 1\n",
      "that, 1\n",
      "prayers.\" 1\n",
      "what 2\n",
      "suspicious,\" 1\n",
      "stood 2\n",
      "Theatre 4\n",
      "saved 2\n",
      "contributed 1\n",
      "lights 1\n",
      "report. 1\n",
      "vehicle 5\n",
      "moviegoers 1\n",
      "victims: 1\n",
      "flew. 1\n",
      "leg 1\n",
      "owns 1\n",
      "Holmes' 1\n",
      "Universal, 1\n",
      "following 4\n",
      "let 1\n",
      "Theatres, 1\n",
      "Sanders, 1\n",
      "others 1\n",
      "hadn't 1\n",
      "100 1\n",
      "appears 1\n",
      "Gov. 6\n",
      "life, 1\n",
      "conviction 1\n",
      "elaborate 1\n",
      "\"He 1\n",
      "makes 1\n",
      "followed 1\n",
      "(CNN)As 1\n",
      ".40 1\n",
      "When 1\n",
      "know' 1\n",
      "know, 1\n",
      "\"The 3\n",
      "handgun. 1\n",
      "standing 1\n",
      "Sanders 1\n",
      "from 5\n",
      "spoke 1\n",
      "would 2\n",
      "two 3\n",
      "movie, 1\n",
      "next 1\n",
      "few 1\n",
      "Craft 4\n",
      "overhead 1\n",
      "6 2\n",
      "taken 1\n",
      "entrance 10\n",
      "started 2\n",
      "Ralph 1\n",
      "occurred 1\n",
      "head.\" 1\n",
      "\"to 1\n",
      "off, 1\n",
      "shooting. 12\n",
      "shielded 1\n",
      "car 2\n",
      "'My 1\n",
      "remain 1\n",
      "can 4\n",
      "of 53\n",
      "believed 1\n",
      "anybody 1\n",
      "my 1\n",
      "history 1\n",
      "heart 2\n",
      "23. 4\n",
      "Police 26\n",
      "figure 1\n",
      "Federal 4\n",
      "didn't 2\n",
      "gunshots.\" 1\n",
      "want 1\n",
      "acts 1\n",
      "1 2\n",
      "located 1\n",
      "arrive. 4\n",
      "Authorities 3\n",
      "\"probably 1\n",
      "speaks 4\n",
      "A 5\n",
      "blocks 4\n",
      "may 4\n",
      "after 5\n",
      "them 3\n",
      "Edmonson 3\n",
      "man 1\n",
      "a 37\n",
      "After 1\n",
      "\"stuff 1\n",
      "One 1\n",
      "so 1\n",
      "block 6\n",
      "media 4\n",
      "furious 1\n",
      "make 1\n",
      "talk 1\n",
      "'Gunshots 1\n",
      "six 1\n",
      "Hide 15\n",
      "gun, 1\n",
      "over 1\n",
      "\"Why 1\n",
      "ended 1\n",
      "gunman 3\n",
      "wondering,\" 1\n",
      "its 1\n",
      "before 2\n",
      "unbothered 1\n",
      "ease, 1\n",
      "police 5\n",
      "ease' 1\n",
      "respect.\" 1\n",
      "inflicted 1\n",
      "late 1\n",
      "window 1\n",
      "slump. 1\n",
      "dead. 1\n",
      "criminal 1\n",
      "it. 1\n",
      "\"What 1\n",
      "gunman's 1\n",
      "someone 1\n",
      "Bobby 5\n",
      "surrounds 4\n",
      "safe 1\n",
      "Michael 1\n",
      "they 3\n",
      "witnesses: 1\n",
      "rifle, 1\n",
      "killed 1\n",
      "comedy 1\n",
      "airports 1\n",
      "name 1\n",
      "Sam 1\n",
      "all. 1\n",
      "stopped 1\n",
      "released; 1\n",
      "went 2\n",
      "fire,\" 1\n",
      "investigators 4\n",
      "profile 1\n",
      "everyone 1\n",
      "doing 1\n",
      "house 1\n",
      "hard 1\n",
      "him 1\n",
      "distributor 1\n",
      "happened,\" 1\n",
      "wander 1\n",
      "Rises\" 1\n",
      "out 2\n",
      "120,000 1\n",
      "opened 1\n",
      "\"If 1\n",
      "auditorium: 1\n",
      "cleared, 1\n",
      "investigation 2\n",
      "7 32\n",
      "auditorium, 1\n",
      "\"It 2\n",
      "cause 1\n",
      "families. 1\n",
      "Theater 1\n",
      "previews 1\n",
      "houses 1\n",
      "CNN 1\n",
      "crime. 1\n",
      "people's 1\n",
      "backed 1\n",
      "unnamed 1\n",
      "guy 4\n",
      "Ellis, 1\n",
      "put 1\n",
      "days 3\n",
      "conducted 1\n",
      "place 1\n",
      "stuff 1\n",
      "think 1\n",
      "first 1\n",
      "complete. 1\n",
      "gunshot 5\n",
      "scene 11\n",
      "one 3\n",
      "done 1\n",
      "another 2\n",
      "shooting,\" 1\n",
      "message 1\n",
      "Stringer 1\n",
      "city 3\n",
      "start 1\n",
      "love, 1\n",
      "'Awful 1\n",
      "Sunny 1\n",
      "least 1\n",
      "scene. 8\n",
      "other, 1\n",
      "2 2\n",
      "white 1\n",
      "just, 1\n",
      "friend 2\n",
      "coverage, 1\n",
      "enforcement 4\n",
      "States' 1\n",
      "hug 1\n",
      "that 6\n",
      "States. 1\n",
      "violence, 1\n",
      "took 3\n",
      "immediate 1\n",
      "part 1\n",
      "\"When 1\n",
      "2012, 1\n",
      "theater 28\n",
      "pray.\" 1\n",
      "believe 1\n",
      "kind 4\n",
      "\"Whenever 1\n",
      "leg, 2\n",
      "16 1\n",
      "quiet, 1\n",
      "shower 1\n",
      "speaking 1\n",
      "this.\" 1\n",
      "were 5\n",
      "weapon 1\n",
      "and 38\n",
      "He's 1\n",
      "Movie 15\n",
      "parking 1\n",
      "turned 1\n",
      "withholding 1\n",
      "sad 1\n",
      "randomly 1\n",
      "happened. 1\n",
      "have 5\n",
      "saw 1\n",
      "any 2\n",
      "relatively 1\n",
      "States 1\n",
      "self 1\n",
      "Fernell 1\n",
      "[victims'] 1\n",
      "officers 2\n",
      "also 2\n",
      "lives.\" 1\n",
      "squad 1\n",
      "declined 1\n",
      "which 1\n",
      "Ticket 1\n",
      "even 1\n",
      "caliber 1\n",
      "trace 1\n",
      "though 1\n",
      "Knight 1\n",
      "who 2\n",
      "Caption 15\n",
      "Chief 1\n",
      "01 2\n",
      "Lafayette 16\n",
      "70 1\n",
      "nothing 2\n",
      "The 26\n",
      "Paige 1\n",
      "life,\" 1\n",
      "indiscriminately. 1\n",
      "alarm 4\n",
      "shooter 6\n",
      "looked 1\n",
      "movie 9\n",
      "wounded 1\n",
      "shot 1\n",
      "Theatre. 4\n",
      "Louisiana.\" 1\n",
      "We 1\n",
      "wounded. 1\n",
      "outside 1\n",
      "going 2\n",
      "tape 4\n",
      "screening 3\n",
      "Thursday, 4\n",
      "58-year-old 1\n",
      "years, 1\n",
      "'We 1\n",
      "his 6\n",
      "hit 1\n",
      "get 4\n",
      "Aurora, 2\n",
      "While 1\n",
      "12 1\n",
      "during 3\n",
      "handgun 1\n",
      "teens 1\n",
      "numerous 1\n",
      "public 1\n",
      "miles 1\n",
      "she 6\n",
      "through 1\n",
      "where 2\n",
      "Bearb, 1\n",
      "spotted 1\n",
      "temporarily 1\n",
      "For 1\n",
      "prayers 1\n",
      "are 3\n",
      "Grand 10\n",
      "surgery 1\n",
      "packed 1\n",
      "'Wow.' 1\n",
      "tweeted, 1\n",
      "said 12\n",
      "04 1\n",
      "jumped 1\n",
      "Aurora 1\n",
      "3 2\n",
      "know.\" 1\n",
      "\"Trainwreck\" 1\n",
      "closed 1\n",
      "July 5\n",
      "man, 1\n",
      "across 1\n",
      "bought 1\n",
      "we 5\n",
      "never 2\n",
      "opening 1\n",
      "Marco 1\n",
      "\"not 1\n",
      "squads 1\n",
      "news 1\n",
      "Schumer, 1\n",
      "come 1\n",
      "Among 1\n",
      "dates 1\n",
      "last 1\n",
      "according 4\n",
      "comment 1\n",
      "Lafayette, 21\n",
      "patrons 1\n",
      "lot. 1\n",
      "Orleans-based 1\n",
      "\"Her 1\n",
      "nearby 2\n",
      "'The 1\n",
      "senseless 1\n",
      "trunk 1\n",
      "sweep 1\n",
      "60 1\n",
      "typify 1\n",
      "there, 1\n",
      "copycat 1\n",
      "arrest 1\n",
      "teacher. 1\n",
      "west 1\n",
      "Southern 1\n",
      "been 1\n",
      "Col. 1\n",
      "entered 1\n",
      "families 1\n",
      "both 1\n",
      "fire 3\n",
      "mind 1\n",
      "search 1\n",
      "sales 1\n",
      "photos 15\n",
      "freewheeling 1\n",
      "And 2\n",
      "continues. 1\n",
      "has 1\n",
      "\"There's 1\n",
      "these 2\n",
      "will 5\n",
      "Holmes 2\n",
      "near 14\n",
      "teachers 1\n",
      "flew, 1\n",
      "life. 1\n",
      "ET) 1\n",
      "further. 1\n",
      "\"My 1\n",
      "seven 2\n",
      "On 1\n",
      "almost 1\n",
      "started, 1\n",
      "is 9\n",
      "it 6\n",
      "\"This 2\n",
      "recounted 1\n",
      "times,\" 1\n",
      "in 39\n",
      "itself.\" 1\n",
      "said. 11\n",
      "intense 1\n",
      "Jalen 1\n",
      "began 1\n",
      "wound 5\n",
      "\"I 2\n",
      "same 1\n",
      "ticket-holders 1\n",
      "sounded. 1\n",
      "James 1\n",
      "units 6\n",
      "stepped 1\n",
      "several 1\n",
      "injured 1\n",
      "About 1\n",
      "deceased, 1\n",
      "I 1\n",
      "running 1\n",
      "awful 3\n",
      "thoughts 2\n",
      "Jindal 2\n",
      "off 1\n",
      "people, 1\n",
      "shotgun 1\n",
      "argument, 1\n",
      "It 1\n",
      "thought 1\n",
      "personnel 4\n",
      "the 105\n",
      "people? 1\n",
      "bodies 1\n",
      "left 1\n",
      "summer 1\n",
      "United 3\n",
      "buildings. 1\n",
      "just 6\n",
      "massacre, 1\n",
      "places, 1\n",
      "multiplex 1\n",
      "victim 1\n",
      "break. 1\n",
      "Hostin. 1\n",
      "Grand, 1\n",
      "blow 1\n",
      "now 3\n",
      "vehicles,\" 1\n",
      "Friday 1\n",
      "had 3\n",
      "movie's 1\n",
      "AR-15 1\n",
      "4 3\n",
      "cinemas. 1\n",
      "It's 1\n",
      "struck 1\n",
      "save 1\n",
      "By 1\n",
      "... 1\n",
      "saturation 1\n",
      "self-inflicted 4\n",
      "emergency 4\n",
      "intercom 1\n",
      "early 1\n",
      "know 1\n",
      "using 1\n",
      "first,\" 1\n",
      "Bomb 1\n",
      "like 3\n",
      "night 6\n",
      "leaves 1\n",
      "security 2\n",
      "Rouge. 1\n",
      "because 1\n",
      "people 5\n",
      "some 2\n",
      "back 1\n",
      "Keifer 1\n",
      "motive 1\n",
      "sure 1\n",
      "nothing's 1\n",
      "\"we 1\n",
      "New 1\n",
      "harm.\" 1\n",
      "for 5\n",
      "literally 1\n",
      "legal 1\n",
      "p.m. 2\n",
      "asking 1\n",
      "He 1\n",
      "now, 1\n",
      "process 1\n",
      "measures 2\n",
      "gunshots. 1\n",
      "precaution. 1\n",
      "jumps 1\n",
      "gunshots' 1\n",
      "broken 1\n",
      "terrified 1\n",
      "12-gauge 1\n",
      "by 2\n",
      "dead 1\n",
      "shooter, 2\n",
      "on 8\n",
      "about 4\n",
      "gunshots 1\n",
      "firing 1\n",
      "range 1\n",
      "comment. 1\n",
      "stand 4\n",
      "shooter: 1\n",
      "out, 1\n",
      "out. 2\n",
      "discharging 1\n",
      "own 1\n",
      "presence 1\n",
      "owe 1\n",
      "into 4\n",
      "within 1\n",
      "down 1\n",
      "authorities 1\n",
      "right 1\n",
      "But 3\n",
      "Jindal, 6\n",
      "Police. 6\n",
      "morning. 1\n",
      "her 5\n",
      "there 5\n",
      "Baton 1\n",
      "Amy 1\n",
      "\"And 1\n",
      "\"We 3\n",
      "way 1\n",
      "was 17\n",
      "war 1\n",
      "head 1\n",
      "himself 1\n",
      "account. 1\n",
      "Coming 1\n",
      "lie. 1\n",
      "but 3\n",
      "hear 1\n",
      "60s,\" 1\n",
      "Following 1\n",
      "Louisiana, 5\n",
      "line 4\n",
      "with 10\n",
      "analyst 1\n",
      "deployed 1\n",
      "he 10\n",
      "pull 2\n",
      "whether 1\n",
      "star, 1\n",
      "inside 4\n",
      "up 4\n",
      "us 2\n",
      "7:10 1\n",
      "Tony 1\n",
      "CNN's 1\n",
      "time,\" 1\n",
      "door. 1\n",
      "\"Trainwreck,\" 2\n",
      "Thursday 2\n",
      "an 15\n",
      "as 2\n",
      "sometime 1\n",
      "at 21\n",
      "well,\" 1\n",
      "shooting 32\n",
      "shot,\" 1\n",
      "Colorado, 1\n",
      "no 2\n",
      "deadly 4\n",
      "when 2\n",
      "dimmed 1\n",
      "Dark 1\n",
      "other 3\n",
      "5 2\n",
      "you 3\n",
      "Law 4\n",
      "bullets 2\n",
      "kinda 1\n",
      "death, 1\n",
      "friends 1\n",
      "died 5\n",
      "fundamentally 1\n",
      "motive,\" 1\n",
      "bullet 3\n",
      "(8:10 1\n",
      "age 1\n",
      "vehicles 4\n",
      "shooting.\" 1\n",
      "together 2\n",
      "An 1\n",
      "lafayette 7\n",
      "time 1\n"
     ]
    }
   ],
   "source": [
    "ary= [] \n",
    "for line in open('cnn.txt'):\n",
    "    ary += line.split()\n",
    "\n",
    "dic = {}\n",
    "for ele in ary:\n",
    "    if ele not in dic:\n",
    "        dic[ele] = 1\n",
    "    else:\n",
    "        dic[ele] = dic[ele] + 1\n",
    "        \n",
    "for ele in dic:\n",
    "    print ele, dic[ele]\n"
   ]
  },
  {
   "cell_type": "code",
   "execution_count": 154,
   "metadata": {
    "collapsed": false
   },
   "outputs": [
    {
     "name": "stdout",
     "output_type": "stream",
     "text": [
      "[('the', 105), ('of', 53), ('in', 39), ('and', 38), ('a', 37), ('Louisiana', 33), ('7', 32), ('shooting', 32), ('theater', 28), ('Police', 26), ('The', 26), ('Lafayette,', 21), ('at', 21), ('to', 20), ('was', 17), ('Lafayette', 16), ('Hide', 15), ('Movie', 15), ('Caption', 15), ('photos', 15), ('an', 15), ('near', 14), ('State', 12), ('shooting.', 12), ('said', 12), ('scene', 11), ('said.', 11), ('Department', 10), ('entrance', 10), ('Grand', 10), ('with', 10), ('he', 10), ('movie', 9), ('is', 9), ('scene.', 8), ('on', 8), ('lafayette', 7), ('road', 6), ('Gov.', 6), ('block', 6), ('that', 6), ('shooter', 6), ('his', 6), ('she', 6), ('it', 6), ('units', 6), ('just', 6), ('night', 6), ('Jindal,', 6), ('Police.', 6)]\n"
     ]
    }
   ],
   "source": [
    "import operator\n",
    "sorted_x = sorted(dic.items(), key=operator.itemgetter(1), reverse=True)\n",
    "print sorted_x[0:50]"
   ]
  },
  {
   "cell_type": "code",
   "execution_count": 163,
   "metadata": {
    "collapsed": false
   },
   "outputs": [],
   "source": [
    "import jieba\n",
    "ary= [] \n",
    "for line in open('apple.txt'):\n",
    "    #print line\n",
    "    ary += jieba.cut(line)\n",
    "\n",
    "dic = {}\n",
    "for ele in ary:\n",
    "    if ele not in dic:\n",
    "        dic[ele] = 1\n",
    "    else:\n",
    "        dic[ele] = dic[ele] + 1\n",
    "        \n",
    "#for ele in dic:\n",
    "#    print ele, dic[ele]\n"
   ]
  },
  {
   "cell_type": "code",
   "execution_count": 164,
   "metadata": {
    "collapsed": false
   },
   "outputs": [],
   "source": [
    "import operator\n",
    "sorted_x = sorted(dic.items(), key=operator.itemgetter(1), reverse=True)\n",
    "#for ele in sorted_x[0:50]:\n",
    "#    print ele[0], ele[1]"
   ]
  },
  {
   "cell_type": "code",
   "execution_count": null,
   "metadata": {
    "collapsed": true
   },
   "outputs": [],
   "source": []
  }
 ],
 "metadata": {
  "kernelspec": {
   "display_name": "Python 2",
   "language": "python",
   "name": "python2"
  },
  "language_info": {
   "codemirror_mode": {
    "name": "ipython",
    "version": 2
   },
   "file_extension": ".py",
   "mimetype": "text/x-python",
   "name": "python",
   "nbconvert_exporter": "python",
   "pygments_lexer": "ipython2",
   "version": "2.7.10"
  }
 },
 "nbformat": 4,
 "nbformat_minor": 0
}
