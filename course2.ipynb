{
 "cells": [
  {
   "cell_type": "code",
   "execution_count": 2,
   "metadata": {
    "collapsed": false
   },
   "outputs": [
    {
     "name": "stdout",
     "output_type": "stream",
     "text": [
      "['asap', 3]\n",
      "['w', 'o', 'r', 'd']\n",
      "[['list'], ['of', 'lists']]\n",
      "['a', 1]\n"
     ]
    },
    {
     "data": {
      "text/plain": [
       "8"
      ]
     },
     "execution_count": 2,
     "metadata": {},
     "output_type": "execute_result"
    }
   ],
   "source": [
    "#List 可以裝載不同類型元素\n",
    "print ['asap', 3]\n",
    "print list(\"word\") \n",
    "print [['list'], ['of', 'lists']]\n",
    "print list(('a', 1))\n"
   ]
  },
  {
   "cell_type": "code",
   "execution_count": 5,
   "metadata": {
    "collapsed": false
   },
   "outputs": [
    {
     "name": "stdout",
     "output_type": "stream",
     "text": [
      "<type 'int'>\n"
     ]
    }
   ],
   "source": [
    "\n",
    "a = ['heterogeneous', 3]\n",
    "print type(a[1])"
   ]
  },
  {
   "cell_type": "code",
   "execution_count": 6,
   "metadata": {
    "collapsed": false
   },
   "outputs": [
    {
     "name": "stdout",
     "output_type": "stream",
     "text": [
      "heterogeneous hello\n"
     ]
    }
   ],
   "source": [
    "print a[0] + ' hello'"
   ]
  },
  {
   "cell_type": "code",
   "execution_count": 7,
   "metadata": {
    "collapsed": false
   },
   "outputs": [
    {
     "name": "stdout",
     "output_type": "stream",
     "text": [
      "8\n"
     ]
    }
   ],
   "source": [
    "print a[1]  + 5 "
   ]
  },
  {
   "cell_type": "code",
   "execution_count": 8,
   "metadata": {
    "collapsed": false
   },
   "outputs": [
    {
     "name": "stdout",
     "output_type": "stream",
     "text": [
      "5\n",
      "[7, 's']\n",
      "s\n",
      "7\n",
      "[7, 's']\n",
      "[5, 7]\n",
      "['s', 7, 6, 5]\n",
      "4\n",
      "[5, 's']\n"
     ]
    }
   ],
   "source": [
    "a = [5, 6, 7, 's'] # a = [5 6 7 ‘s’] \n",
    "print a[0] # 5\n",
    "print a[2:4] # [7, ‘s’] \n",
    "print a[-1] # ‘s’ \n",
    "print a[-2] # 7\n",
    "print a[2:] # [7, ‘s’]\n",
    "print a[::2] # [5, 7]\n",
    "print a[::-1] # [‘s’, 7, 6, 5]\n",
    "print len(a) # 4\n",
    "print [min(a), max(a)] # [5, ‘s’]"
   ]
  },
  {
   "cell_type": "code",
   "execution_count": 11,
   "metadata": {
    "collapsed": false
   },
   "outputs": [
    {
     "name": "stdout",
     "output_type": "stream",
     "text": [
      "adgjmpsvy\n",
      "zyxwvutsrqponmlkjihgfedcba\n",
      "cegi\n"
     ]
    }
   ],
   "source": [
    "a = 'abcdefghijklmnopqrstuvwxyz' \n",
    "print a[::3] # for(i = 0 ; i< len(a); i +=3)\n",
    "print a[::-1] # for(i = len(a) ; i > 0 ; i --)\n",
    "print a[2:10:2] # for(i = 2 ; i< 10; i +=2)"
   ]
  },
  {
   "cell_type": "code",
   "execution_count": 12,
   "metadata": {
    "collapsed": false
   },
   "outputs": [
    {
     "name": "stdout",
     "output_type": "stream",
     "text": [
      "[5, 6, 7, 8]\n",
      "[5, 6, 7]\n",
      "[5, 6, 7, 2]\n",
      "[2, 5, 6, 7]\n",
      "[7, 6, 5, 2]\n"
     ]
    }
   ],
   "source": [
    "a = [5, 6, 7, 8]\n",
    "print a\n",
    "a.pop() # a = [5, 6, 7]\n",
    "print a\n",
    "a.append(2) # a = [5, 6, 7, 2]\n",
    "print a\n",
    "a.sort() # a = [2, 5, 6, 7]\n",
    "print a\n",
    "a.reverse() # a = [7, 6, 5, 2]\n",
    "print a\n"
   ]
  },
  {
   "cell_type": "code",
   "execution_count": 14,
   "metadata": {
    "collapsed": false
   },
   "outputs": [
    {
     "name": "stdout",
     "output_type": "stream",
     "text": [
      "False\n",
      "True\n"
     ]
    }
   ],
   "source": [
    "a = 'this is a book, I loves qoo'\n",
    "\n",
    "print 'cat' in a\n",
    "print 'qoo' in a\n"
   ]
  },
  {
   "cell_type": "code",
   "execution_count": 22,
   "metadata": {
    "collapsed": false
   },
   "outputs": [
    {
     "name": "stdout",
     "output_type": "stream",
     "text": [
      "「高雄氣爆才40幾個」　侯友宜被譙翻(20503)\n"
     ]
    }
   ],
   "source": [
    "import requests\n",
    "from bs4 import BeautifulSoup\n",
    "res = requests.get('http://www.appledaily.com.tw/realtimenews/section/new/')\n",
    "soup = BeautifulSoup(res.text)\n",
    "for ele in soup.select('#maincontent a'):\n",
    "    if len(ele.select('font')) > 0:\n",
    "        if '高雄'.decode('utf-8') in ele.select('font')[0].text :\n",
    "            print ele.select('font')[0].text"
   ]
  },
  {
   "cell_type": "code",
   "execution_count": 25,
   "metadata": {
    "collapsed": false
   },
   "outputs": [
    {
     "name": "stdout",
     "output_type": "stream",
     "text": [
      "a: [1, 2, 3]\n",
      "b: [1, 2, 3]\n",
      "a: [1, 2000, 3]\n",
      "b: [1, 2000, 3]\n"
     ]
    },
    {
     "data": {
      "text/plain": [
       "[1, 2000, 3]"
      ]
     },
     "execution_count": 25,
     "metadata": {},
     "output_type": "execute_result"
    }
   ],
   "source": [
    "a = [1, 2, 3]\n",
    "b = a\n",
    "print 'a:', a\n",
    "print 'b:', b\n",
    "a[1] = 2000\n",
    "print 'a:', a\n",
    "print 'b:', b\n",
    "b\n"
   ]
  },
  {
   "cell_type": "code",
   "execution_count": 28,
   "metadata": {
    "collapsed": false
   },
   "outputs": [
    {
     "name": "stdout",
     "output_type": "stream",
     "text": [
      "aa: [1, 2, 3]\n",
      "a: [1, 2, 3]\n",
      "aa: [1, 2, 3]\n",
      "a: [1, 2000, 3]\n"
     ]
    }
   ],
   "source": [
    "a = [1, 2, 3]\n",
    "import copy\n",
    "aa = copy.deepcopy(a) # Deep Copy\n",
    "print 'aa:', aa\n",
    "print 'a:', a\n",
    "a[1] = 2000\n",
    "print 'aa:', aa\n",
    "print 'a:', a\n",
    "#print aa\n"
   ]
  },
  {
   "cell_type": "code",
   "execution_count": 29,
   "metadata": {
    "collapsed": false
   },
   "outputs": [
    {
     "name": "stdout",
     "output_type": "stream",
     "text": [
      "[1, 4, 9, 16]\n"
     ]
    }
   ],
   "source": [
    "nums = [1, 2, 3, 4]\n",
    "ary = [] \n",
    "for n in nums:\n",
    "    ary.append(n*n)\n",
    "print ary"
   ]
  },
  {
   "cell_type": "code",
   "execution_count": 30,
   "metadata": {
    "collapsed": false
   },
   "outputs": [
    {
     "name": "stdout",
     "output_type": "stream",
     "text": [
      "[1, 4, 9, 16]\n"
     ]
    }
   ],
   "source": [
    "nums = [1, 2, 3, 4]\n",
    "squares = [ n * n for n in nums ]   \n",
    "print squares"
   ]
  },
  {
   "cell_type": "code",
   "execution_count": 33,
   "metadata": {
    "collapsed": false
   },
   "outputs": [
    {
     "name": "stdout",
     "output_type": "stream",
     "text": [
      "[2, 1]\n",
      "[2, 1]\n",
      "['APPLE', 'BANNANA']\n",
      "['APPLE', 'BANNANA']\n"
     ]
    }
   ],
   "source": [
    "## 篩選 values <= 2\n",
    "nums = [2, 8, 1, 6]\n",
    "small = [ n for n in nums if n <= 2 ]  ## [2, 1]\n",
    "print small\n",
    "\n",
    "ary = [] \n",
    "for n in nums:\n",
    "    if n <=2:\n",
    "        ary.append(n)\n",
    "print ary\n",
    "\n",
    "\n",
    "## 篩選 包含 'a' 的 fruits, 並轉換為大寫\n",
    "fruits = ['apple', 'cherry', 'bannana', 'lemon']\n",
    "afruits = [ s.upper() for s in fruits if 'a' in s ]\n",
    "print afruits\n",
    "\n",
    "ary= [] \n",
    "for s in fruits:\n",
    "    if 'a' in s:\n",
    "        ary.append(s.upper())\n",
    "print ary\n"
   ]
  },
  {
   "cell_type": "code",
   "execution_count": null,
   "metadata": {
    "collapsed": true
   },
   "outputs": [],
   "source": [
    "contact_list = []\n",
    "while True:\n",
    "    contact = input(\"Add Contact: \")\n",
    "    if contact == 'Done':\n",
    "        break\n",
    "    else:\n",
    "        contact_list.append(contact)\n",
    "        print \"You have %d contacts\" % (len(contact_list))\n",
    "print \"Your Contacts: %s\"%(contact_list)\n"
   ]
  },
  {
   "cell_type": "code",
   "execution_count": 35,
   "metadata": {
    "collapsed": false
   },
   "outputs": [
    {
     "name": "stdout",
     "output_type": "stream",
     "text": [
      "100\n"
     ]
    }
   ],
   "source": [
    "cnt = 0\n",
    "while True:\n",
    "    if cnt >=100:\n",
    "        break\n",
    "    cnt +=1\n",
    "print cnt\n",
    "    "
   ]
  },
  {
   "cell_type": "code",
   "execution_count": 39,
   "metadata": {
    "collapsed": false
   },
   "outputs": [
    {
     "name": "stdout",
     "output_type": "stream",
     "text": [
      "Add Contacts:123\n",
      "You have 1 contacts\n",
      "Add Contacts:123\n",
      "You have 2 contacts\n",
      "Add Contacts:Done\n",
      "Your Contacts: ['123', '123']\n"
     ]
    }
   ],
   "source": [
    "contact_list = [] \n",
    "while True:\n",
    "    contact = raw_input(\"Add Contacts:\")\n",
    "    if contact == 'Done':\n",
    "        break\n",
    "    else:\n",
    "        contact_list.append(contact)\n",
    "        print \"You have %d contacts\" % (len(contact_list))\n",
    "print \"Your Contacts: %s\"%(contact_list)"
   ]
  },
  {
   "cell_type": "code",
   "execution_count": 49,
   "metadata": {
    "collapsed": false
   },
   "outputs": [],
   "source": [
    "import requests\n",
    "from bs4 import BeautifulSoup\n",
    "import re\n",
    "ary = []\n",
    "for i in range(1,20):\n",
    "    res = requests.get('http://www.appledaily.com.tw/realtimenews/section/new/%d'%(i))\n",
    "    soup = BeautifulSoup(res.text)\n",
    "    for ele in soup.select('#maincontent a'):\n",
    "        if len(ele.select('font')) > 0:\n",
    "            m = re.match('(.*)\\((\\d+)\\)', ele.select('font')[0].text)\n",
    "            if m:\n",
    "                ary.append({'title':m.group(1), 'count':int(m.group(2))})"
   ]
  },
  {
   "cell_type": "code",
   "execution_count": 52,
   "metadata": {
    "collapsed": false
   },
   "outputs": [
    {
     "data": {
      "text/html": [
       "<div style=\"max-height:1000px;max-width:1500px;overflow:auto;\">\n",
       "<table border=\"1\" class=\"dataframe\">\n",
       "  <thead>\n",
       "    <tr style=\"text-align: right;\">\n",
       "      <th></th>\n",
       "      <th>count</th>\n",
       "      <th>title</th>\n",
       "    </tr>\n",
       "  </thead>\n",
       "  <tbody>\n",
       "    <tr>\n",
       "      <th>227</th>\n",
       "      <td>514230</td>\n",
       "      <td>【更新】屁孩ＧＧ了！一次撞兩台　名車＋跑...</td>\n",
       "    </tr>\n",
       "    <tr>\n",
       "      <th>478</th>\n",
       "      <td>394269</td>\n",
       "      <td>【更新】惡房東張淑晶又告人　這回踢鐵板</td>\n",
       "    </tr>\n",
       "    <tr>\n",
       "      <th>481</th>\n",
       "      <td>269684</td>\n",
       "      <td>【獨家】2賤狼撿屍　載到凶案現場性侵</td>\n",
       "    </tr>\n",
       "    <tr>\n",
       "      <th>428</th>\n",
       "      <td>267540</td>\n",
       "      <td>結婚前六天　才知婚禮場地「兩個新娘」！</td>\n",
       "    </tr>\n",
       "    <tr>\n",
       "      <th>521</th>\n",
       "      <td>182504</td>\n",
       "      <td>鯉魚刺得不像　少年父怒告刺青師</td>\n",
       "    </tr>\n",
       "  </tbody>\n",
       "</table>\n",
       "</div>"
      ],
      "text/plain": [
       "      count                    title\n",
       "227  514230  ����啜�撅�酋嚗改憫鈭��銝�活����啜����嚗��...\n",
       "478  394269      ����啜��⊥��勗撐瘛�����鈭箝����頦ａ���\n",
       "481  269684       ���摰嗚�2鞈斤��踹�����啣�獢���湔�靘�\n",
       "428  267540      蝯�����憭押����憍�旨�游�������憡��嚗�\n",
       "521  182504          攳���箏�銝�����撟渡�����粹�撣�"
      ]
     },
     "execution_count": 52,
     "metadata": {},
     "output_type": "execute_result"
    }
   ],
   "source": [
    "import pandas as pd\n",
    "df = pd.DataFrame(ary)\n",
    "df.sort(['count'], ascending=False).head()"
   ]
  },
  {
   "cell_type": "code",
   "execution_count": 53,
   "metadata": {
    "collapsed": false
   },
   "outputs": [
    {
     "name": "stdout",
     "output_type": "stream",
     "text": [
      "9 was not in the list\n",
      "9 was not in the list\n",
      "9 was not in the list\n",
      "9 was not in the list\n",
      "9 was not in the list\n",
      "9 was not in the list\n",
      "9 was not in the list\n",
      "8 found\n",
      "9 found!\n"
     ]
    }
   ],
   "source": [
    "#if - else\n",
    "a = 9\n",
    "b = 8\n",
    "for i in range(1,10):\n",
    "    if i == a:\n",
    "        print(str(a) + ' found!')\n",
    "        break\n",
    "    elif i == b:\n",
    "        print str(b) + ' found'\n",
    "    else:\n",
    "        print(str(a) + ' was not in the list')\n"
   ]
  },
  {
   "cell_type": "code",
   "execution_count": 54,
   "metadata": {
    "collapsed": false
   },
   "outputs": [
    {
     "name": "stdout",
     "output_type": "stream",
     "text": [
      "1 2 3 4 5 6 7 8 9\n"
     ]
    }
   ],
   "source": [
    "# from 1 to 10\n",
    "for i in range(1,10): #for(int i=1;  i< 10 ; i++)\n",
    "    print i,\n",
    "print"
   ]
  },
  {
   "cell_type": "code",
   "execution_count": 55,
   "metadata": {
    "collapsed": false
   },
   "outputs": [
    {
     "name": "stdout",
     "output_type": "stream",
     "text": [
      "1 3 5 7 9\n"
     ]
    }
   ],
   "source": [
    "for i in range(1,10,2):\n",
    "    print i,\n",
    "print\n"
   ]
  },
  {
   "cell_type": "code",
   "execution_count": 56,
   "metadata": {
    "collapsed": false
   },
   "outputs": [
    {
     "name": "stdout",
     "output_type": "stream",
     "text": [
      "1 2 3 4 5\n"
     ]
    }
   ],
   "source": [
    "a = [1,2,3,4,5]\n",
    "for i in a:\n",
    "    print i,"
   ]
  },
  {
   "cell_type": "code",
   "execution_count": 57,
   "metadata": {
    "collapsed": false
   },
   "outputs": [
    {
     "name": "stdout",
     "output_type": "stream",
     "text": [
      "5050\n"
     ]
    }
   ],
   "source": [
    "i =0\n",
    "sum = 0 \n",
    "while(i < 101):\n",
    "    sum += i\n",
    "    i +=1\n",
    "print sum\n"
   ]
  },
  {
   "cell_type": "code",
   "execution_count": 59,
   "metadata": {
    "collapsed": false
   },
   "outputs": [],
   "source": [
    "def say_hello():\n",
    "    print \"hello world\"\n"
   ]
  },
  {
   "cell_type": "code",
   "execution_count": 60,
   "metadata": {
    "collapsed": false
   },
   "outputs": [
    {
     "name": "stdout",
     "output_type": "stream",
     "text": [
      "hello world\n"
     ]
    }
   ],
   "source": [
    "say_hello()"
   ]
  },
  {
   "cell_type": "code",
   "execution_count": 62,
   "metadata": {
    "collapsed": false
   },
   "outputs": [
    {
     "name": "stdout",
     "output_type": "stream",
     "text": [
      "5\n"
     ]
    }
   ],
   "source": [
    "def addNum(a, b):#Define Function\n",
    "    return a+b #Return function \n",
    "\n",
    "print addNum(1,4)"
   ]
  },
  {
   "cell_type": "code",
   "execution_count": 63,
   "metadata": {
    "collapsed": false
   },
   "outputs": [
    {
     "name": "stdout",
     "output_type": "stream",
     "text": [
      "4.0\n"
     ]
    }
   ],
   "source": [
    "import math\n",
    "a = math.ceil(3.6)\n",
    "print a \n"
   ]
  },
  {
   "cell_type": "code",
   "execution_count": 65,
   "metadata": {
    "collapsed": false
   },
   "outputs": [
    {
     "name": "stdout",
     "output_type": "stream",
     "text": [
      "<module 'math' (built-in)>\n",
      "<module 'requests' from 'C:\\Python27\\lib\\site-packages\\requests\\__init__.pyc'>\n"
     ]
    }
   ],
   "source": [
    "import math #Importing Modules\n",
    "print math #Print Content\n",
    "\n",
    "import requests\n",
    "print requests\n",
    "\n"
   ]
  },
  {
   "cell_type": "code",
   "execution_count": 70,
   "metadata": {
    "collapsed": false,
    "scrolled": true
   },
   "outputs": [
    {
     "name": "stdout",
     "output_type": "stream",
     "text": [
      "_clear_type_cache\n",
      "argv\n",
      "exc_clear\n",
      "py3kwarning\n",
      "warnoptions\n",
      "['C:\\\\Python27\\\\lib\\\\site-packages\\\\IPython\\\\kernel\\\\__main__.py', '-f', 'C:\\\\Users\\\\david\\\\.ipython\\\\profile_default\\\\security\\\\kernel-bb132c2c-e7fa-4723-9597-c82b7b713383.json', '--profile-dir', 'C:\\\\Users\\\\david\\\\.ipython\\\\profile_default']\n",
      "[1, 2, 3, 4]\n"
     ]
    }
   ],
   "source": [
    "import sys #Importing Modules\n",
    "for ele in dir(sys):\n",
    "    if 'ar' in ele:\n",
    "        print ele\n",
    "        \n",
    "print(sys.argv) #Print Argument\n",
    "\n",
    "print range(1,len(sys.argv))"
   ]
  },
  {
   "cell_type": "code",
   "execution_count": 72,
   "metadata": {
    "collapsed": false
   },
   "outputs": [
    {
     "name": "stdout",
     "output_type": "stream",
     "text": [
      "1\n",
      "2\n",
      "3\n",
      "4\n",
      "5\n",
      "6\n",
      "7\n",
      "8\n",
      "9\n",
      "[1, 2, 3, 4, 5, 6, 7, 8, 9]\n"
     ]
    }
   ],
   "source": [
    "for ele in range(1,10):\n",
    "    print ele\n",
    "    \n",
    "print range(1,10)"
   ]
  },
  {
   "cell_type": "code",
   "execution_count": 74,
   "metadata": {
    "collapsed": false
   },
   "outputs": [
    {
     "name": "stdout",
     "output_type": "stream",
     "text": [
      "Add Contact: 123132\n",
      "You have 1 contacts\n",
      "Add Contact: sdfsdfs\n",
      "You have 2 contacts\n",
      "Add Contact: Done\n",
      "Your Contacts: ['123132', 'sdfsdfs']\n"
     ]
    }
   ],
   "source": [
    "def add_contact(name):\n",
    "    contact_list.append(name)\n",
    "    print \"You have %d contacts\" % (len(contact_list))\n",
    "\n",
    "def get_contact():\n",
    "    print \"Your Contacts: %s\"%(contact_list)\n",
    "\n",
    "contact_list = []\n",
    "\n",
    "def main():    \n",
    "    while True:\n",
    "        contact = raw_input(\"Add Contact: \")\n",
    "        if contact == 'Done':\n",
    "            break\n",
    "        else:\n",
    "            add_contact(contact)\n",
    "    get_contact()\n",
    "\n",
    "if __name__ == \"__main__\":\n",
    "    main()\n"
   ]
  },
  {
   "cell_type": "code",
   "execution_count": 1,
   "metadata": {
    "collapsed": false
   },
   "outputs": [
    {
     "name": "stdout",
     "output_type": "stream",
     "text": [
      "Add Contact: sfjidjfdsif\n",
      "You have 1 contacts\n",
      "Add Contact: Dine\n",
      "You have 2 contacts\n",
      "Add Contact: Done\n",
      "Your Contacts: ['sfjidjfdsif', 'Dine']\n"
     ]
    }
   ],
   "source": [
    "def add_contact(name):\n",
    "    contact_list.append(name)\n",
    "    print \"You have %d contacts\" % (len(contact_list))\n",
    "\n",
    "def get_contact():\n",
    "    print \"Your Contacts: %s\"%(contact_list)\n",
    "\n",
    "contact_list = []\n",
    "\n",
    "def main():    \n",
    "    while True:\n",
    "        contact = raw_input(\"Add Contact: \")\n",
    "        if contact == 'Done':\n",
    "            break\n",
    "        else:\n",
    "            add_contact(contact)\n",
    "    get_contact()\n",
    "    \n",
    "main()\n"
   ]
  },
  {
   "cell_type": "code",
   "execution_count": 2,
   "metadata": {
    "collapsed": false
   },
   "outputs": [
    {
     "name": "stdout",
     "output_type": "stream",
     "text": [
      "3000\n"
     ]
    }
   ],
   "source": [
    "a = range(1,30000)\n",
    "for page in a:\n",
    "    if page == 3000:\n",
    "        print page"
   ]
  },
  {
   "cell_type": "code",
   "execution_count": 3,
   "metadata": {
    "collapsed": false
   },
   "outputs": [
    {
     "name": "stdout",
     "output_type": "stream",
     "text": [
      "3000\n"
     ]
    }
   ],
   "source": [
    "a = {'1':1, '2':3, '3000':3000}\n",
    "print a['3000']"
   ]
  },
  {
   "cell_type": "code",
   "execution_count": 14,
   "metadata": {
    "collapsed": false
   },
   "outputs": [],
   "source": [
    "import requests\n",
    "from bs4 import BeautifulSoup\n",
    "import re\n",
    "ary = []\n",
    "ind  = []\n",
    "res = requests.get('http://www.appledaily.com.tw/realtimenews/section/new/1')\n",
    "soup = BeautifulSoup(res.text)\n",
    "for ele in soup.select('.rtddt'):\n",
    "    if len(ele.select('font')) > 0:\n",
    "        ind.append(ele.select('a')[0]['href'])\n",
    "        ary.append(ele.select('font')[0].text)\n",
    "                "
   ]
  },
  {
   "cell_type": "code",
   "execution_count": 21,
   "metadata": {
    "collapsed": false
   },
   "outputs": [
    {
     "name": "stdout",
     "output_type": "stream",
     "text": [
      "0\n",
      "1\n",
      "2\n",
      "3\n",
      "4\n",
      "5\n",
      "6\n",
      "7\n",
      "8\n",
      "9\n",
      "10\n",
      "11\n",
      "12\n",
      "13\n",
      "14\n",
      "15\n",
      "16\n",
      "17\n",
      "18\n",
      "19\n",
      "20\n",
      "/realtimenews/article/property/20150724/654395/不滿修法　百位農民北上抗議\n",
      "21\n",
      "22\n",
      "23\n",
      "24\n",
      "25\n",
      "26\n",
      "27\n",
      "28\n",
      "29\n"
     ]
    }
   ],
   "source": [
    "for id, ele in  enumerate(ary):\n",
    "    print id\n",
    "    if '農民'.decode('utf-8') in ele:\n",
    "        print ind[id]"
   ]
  },
  {
   "cell_type": "code",
   "execution_count": 54,
   "metadata": {
    "collapsed": false
   },
   "outputs": [
    {
     "name": "stdout",
     "output_type": "stream",
     "text": [
      "鄭明典：今年恐有超強聖嬰事件(0)\n",
      "反課綱最新　1被捕學生低血壓送醫(0)\n",
      "iPhone 6s正面曝光　跟i6差沒多...(0)\n",
      "跳橋自殺沒死　謊報遇劫反吃官司(0)\n",
      "車太炫不敵爆乳吸睛(0)\n",
      "涉收300萬護航廠商　前立委鍾紹和獲更審(90)\n",
      "日球星來台偷車？　明星臉惹禍(157)\n",
      "【更新】反課綱聯盟：衝教部是所有學生決定(4979)\n",
      "高市下周二停水　影響1.2萬戶(155)\n",
      "記者採訪遭逮　柯：警方將增新聞官(31)\n",
      "【更新】5大魅力告訴你    為何要愛棉...(4365)\n",
      "反課綱聯盟聲明全文：教育部倒行逆施(10)\n",
      "美又傳槍擊案　歐巴馬：任內最大挫敗(417)\n",
      "【更新】獨立記者直擊學生攻教育部　控警「...(2191)\n",
      "TFBOYS吸女粉狂攝　偏愛媽媽味(193)\n",
      "內褲男跳窗　但不是被抓姦(415)\n",
      "鼻酸～兒夭折　媽媽緊抱不忍放(1609)\n",
      "大巨蛋大底工程 　遠雄：如期完成(846)\n",
      "吳思華：某團體隱身於後指導是不道德行為(1773)\n",
      "教育部聲明全文：忍痛依法提告(1378)\n",
      "無視3000元　他家被潑紅漆(1459)\n",
      "【今周刊】吳念真: 為了下一代 我們什麼...(1528)\n",
      "【更新】邀曾永權操盤？　洪秀柱否認(2135)\n",
      "【更新】3記者遭逮　柯P：警方坦承未依S...(26192)\n",
      "吳思華出面：對闖教部學生提告(8451)\n",
      "【獨家】密函曝光 　豪門婚變調監視器的竟...(37459)\n",
      "華碩財務長張偉明驚傳過世(4388)\n",
      "國衛院糖尿病新藥　2018年上市(582)\n",
      "《自由》工會：記者和警察均是值勤　非罪犯(60)\n",
      "零下22度想走秀　名模差點被吹倒(2207)\n"
     ]
    }
   ],
   "source": [
    "import requests\n",
    "from bs4 import BeautifulSoup\n",
    "import re\n",
    "dic = {}\n",
    "res = requests.get('http://www.appledaily.com.tw/realtimenews/section/new/1')\n",
    "soup = BeautifulSoup(res.text)\n",
    "for ele in soup.select('.rtddt'):\n",
    "    if len(ele.select('font')) > 0:\n",
    "        dic[ele.select('font')[0].text.encode('utf-8')] = ele.select('a')[0]['href']\n",
    "        print ele.select('font')[0].text.encode('utf-8')\n",
    "                "
   ]
  },
  {
   "cell_type": "code",
   "execution_count": 55,
   "metadata": {
    "collapsed": false
   },
   "outputs": [
    {
     "name": "stdout",
     "output_type": "stream",
     "text": [
      "/realtimenews/article/life/20150724/654401/國衛院糖尿病新藥　2018年上市\n"
     ]
    }
   ],
   "source": [
    "print dic['國衛院糖尿病新藥　2018年上市(582)']"
   ]
  },
  {
   "cell_type": "code",
   "execution_count": 56,
   "metadata": {
    "collapsed": false
   },
   "outputs": [
    {
     "name": "stdout",
     "output_type": "stream",
     "text": [
      "{'a': 100, 'c': 0.98, 'b': 'yes'}\n",
      "['a', 'c', 'b']\n",
      "[100, 0.98, 'yes']\n",
      "100\n",
      "100\n"
     ]
    }
   ],
   "source": [
    "#declare dictionary \n",
    "dic = {'a':100, 'b':\"yes\", 'c':0.98} \n",
    "print dic \n",
    "\n",
    "#get keys in dictionary \n",
    "print dic.keys() \n",
    "\n",
    "#get values in dictionary \n",
    "print dic.values() \n",
    "\n",
    "#get value of given key \n",
    "print dic['a'] \n",
    "\n",
    "#get value of given key \n",
    "print dic.get('a')\n",
    "\n"
   ]
  },
  {
   "cell_type": "code",
   "execution_count": 59,
   "metadata": {
    "collapsed": false
   },
   "outputs": [
    {
     "name": "stdout",
     "output_type": "stream",
     "text": [
      "None\n"
     ]
    },
    {
     "ename": "KeyError",
     "evalue": "'d'",
     "output_type": "error",
     "traceback": [
      "\u001b[1;31m---------------------------------------------------------------------------\u001b[0m",
      "\u001b[1;31mKeyError\u001b[0m                                  Traceback (most recent call last)",
      "\u001b[1;32m<ipython-input-59-06d48946a286>\u001b[0m in \u001b[0;36m<module>\u001b[1;34m()\u001b[0m\n\u001b[0;32m      1\u001b[0m \u001b[0mdic\u001b[0m \u001b[1;33m=\u001b[0m \u001b[1;33m{\u001b[0m\u001b[1;34m'a'\u001b[0m\u001b[1;33m:\u001b[0m\u001b[1;36m100\u001b[0m\u001b[1;33m,\u001b[0m \u001b[1;34m'b'\u001b[0m\u001b[1;33m:\u001b[0m\u001b[1;34m\"yes\"\u001b[0m\u001b[1;33m,\u001b[0m \u001b[1;34m'c'\u001b[0m\u001b[1;33m:\u001b[0m\u001b[1;36m0.98\u001b[0m\u001b[1;33m}\u001b[0m\u001b[1;33m\u001b[0m\u001b[0m\n\u001b[0;32m      2\u001b[0m \u001b[1;32mprint\u001b[0m \u001b[0mdic\u001b[0m\u001b[1;33m.\u001b[0m\u001b[0mget\u001b[0m\u001b[1;33m(\u001b[0m\u001b[1;34m'd'\u001b[0m\u001b[1;33m)\u001b[0m\u001b[1;33m\u001b[0m\u001b[0m\n\u001b[1;32m----> 3\u001b[1;33m \u001b[1;32mprint\u001b[0m \u001b[0mdic\u001b[0m\u001b[1;33m[\u001b[0m\u001b[1;34m'd'\u001b[0m\u001b[1;33m]\u001b[0m\u001b[1;33m\u001b[0m\u001b[0m\n\u001b[0m",
      "\u001b[1;31mKeyError\u001b[0m: 'd'"
     ]
    }
   ],
   "source": [
    "dic = {'a':100, 'b':\"yes\", 'c':0.98} \n",
    "print dic.get('d')\n",
    "print dic['d']\n"
   ]
  },
  {
   "cell_type": "code",
   "execution_count": 60,
   "metadata": {
    "collapsed": false
   },
   "outputs": [
    {
     "name": "stdout",
     "output_type": "stream",
     "text": [
      "{'a': 100, 'c': 0.98, 'b': 'yes', 'd': 'new'}\n",
      "{'a': 100, 'c': 0.98, 'b': 'yes', 'e': 123, 'd': 'new', 'f': 789}\n",
      "a 100\n",
      "c 0.98\n",
      "b yes\n",
      "e 123\n",
      "d new\n",
      "f 789\n"
     ]
    }
   ],
   "source": [
    "#add entry into dictionary \n",
    "dic['d'] = 'new' \n",
    "print dic \n",
    "\n",
    "#add entry into dictionary \n",
    "dic.update({'e':123, 'f':789}) \n",
    "print dic \n",
    "\n",
    "# iter the dictionary \n",
    "for rec in dic: \n",
    "    print rec, dic[rec]"
   ]
  },
  {
   "cell_type": "code",
   "execution_count": 61,
   "metadata": {
    "collapsed": true
   },
   "outputs": [],
   "source": [
    "'''\n",
    "switch(n)\n",
    "    case n == 1:\n",
    "       case 1;\n",
    "    case n == 2:\n",
    "       case 2;\n",
    "    defualt:\n",
    "       default case;\n",
    "'''\n",
    "\n",
    "def switch_case(n):\n",
    "    return {'1': 'case1', '2': 'case2'}.get(n)"
   ]
  },
  {
   "cell_type": "code",
   "execution_count": 65,
   "metadata": {
    "collapsed": false
   },
   "outputs": [
    {
     "name": "stdout",
     "output_type": "stream",
     "text": [
      "case1\n",
      "case2\n",
      "None\n"
     ]
    }
   ],
   "source": [
    "print switch_case('1')\n",
    "print switch_case('2')\n",
    "print switch_case('3')"
   ]
  },
  {
   "cell_type": "code",
   "execution_count": 66,
   "metadata": {
    "collapsed": false
   },
   "outputs": [
    {
     "name": "stdout",
     "output_type": "stream",
     "text": [
      "case1\n",
      "case2\n",
      "default case\n"
     ]
    }
   ],
   "source": [
    "def switch_case(n):\n",
    "    return {'1': 'case1', '2': 'case2'}.get(n, 'default case')\n",
    "print switch_case('1')\n",
    "print switch_case('2')\n",
    "print switch_case('3')"
   ]
  },
  {
   "cell_type": "code",
   "execution_count": 68,
   "metadata": {
    "collapsed": false
   },
   "outputs": [
    {
     "name": "stdout",
     "output_type": "stream",
     "text": [
      "<type 'list'>\n",
      "['__add__', '__class__', '__contains__', '__delattr__', '__delitem__', '__delslice__', '__doc__', '__eq__', '__format__', '__ge__', '__getattribute__', '__getitem__', '__getslice__', '__gt__', '__hash__', '__iadd__', '__imul__', '__init__', '__iter__', '__le__', '__len__', '__lt__', '__mul__', '__ne__', '__new__', '__reduce__', '__reduce_ex__', '__repr__', '__reversed__', '__rmul__', '__setattr__', '__setitem__', '__setslice__', '__sizeof__', '__str__', '__subclasshook__', 'append', 'count', 'extend', 'index', 'insert', 'pop', 'remove', 'reverse', 'sort']\n"
     ]
    }
   ],
   "source": [
    "a = [1,2,3]\n",
    "print type(a)\n",
    "print dir(a)"
   ]
  },
  {
   "cell_type": "code",
   "execution_count": 69,
   "metadata": {
    "collapsed": false
   },
   "outputs": [
    {
     "name": "stdout",
     "output_type": "stream",
     "text": [
      "<type 'tuple'>\n",
      "['__add__', '__class__', '__contains__', '__delattr__', '__doc__', '__eq__', '__format__', '__ge__', '__getattribute__', '__getitem__', '__getnewargs__', '__getslice__', '__gt__', '__hash__', '__init__', '__iter__', '__le__', '__len__', '__lt__', '__mul__', '__ne__', '__new__', '__reduce__', '__reduce_ex__', '__repr__', '__rmul__', '__setattr__', '__sizeof__', '__str__', '__subclasshook__', 'count', 'index']\n"
     ]
    }
   ],
   "source": [
    "b = (1,2,3)\n",
    "print type(b)\n",
    "print dir(b)"
   ]
  },
  {
   "cell_type": "code",
   "execution_count": 72,
   "metadata": {
    "collapsed": false
   },
   "outputs": [
    {
     "name": "stdout",
     "output_type": "stream",
     "text": [
      "0\n",
      "1\n",
      "(0, 1)\n"
     ]
    }
   ],
   "source": [
    "'''\n",
    "int a = 0;\n",
    "int b = 1;\n",
    "'''\n",
    "\n",
    "a,b = 0,1\n",
    "print a\n",
    "print b\n",
    "print (a,b)"
   ]
  },
  {
   "cell_type": "code",
   "execution_count": 73,
   "metadata": {
    "collapsed": false
   },
   "outputs": [
    {
     "name": "stdout",
     "output_type": "stream",
     "text": [
      "1\n",
      "0\n"
     ]
    }
   ],
   "source": [
    "a = 0\n",
    "b = 1\n",
    "\n",
    "c = a\n",
    "a = b\n",
    "b = c\n",
    "print a\n",
    "print b\n",
    "\n"
   ]
  },
  {
   "cell_type": "code",
   "execution_count": 74,
   "metadata": {
    "collapsed": true
   },
   "outputs": [],
   "source": [
    "a,b = b,a"
   ]
  },
  {
   "cell_type": "code",
   "execution_count": 75,
   "metadata": {
    "collapsed": false
   },
   "outputs": [
    {
     "name": "stdout",
     "output_type": "stream",
     "text": [
      "0\n",
      "1\n"
     ]
    }
   ],
   "source": [
    "print a \n",
    "print b"
   ]
  },
  {
   "cell_type": "code",
   "execution_count": 76,
   "metadata": {
    "collapsed": true
   },
   "outputs": [],
   "source": [
    "del a"
   ]
  },
  {
   "cell_type": "code",
   "execution_count": 77,
   "metadata": {
    "collapsed": false
   },
   "outputs": [
    {
     "ename": "NameError",
     "evalue": "name 'a' is not defined",
     "output_type": "error",
     "traceback": [
      "\u001b[1;31m---------------------------------------------------------------------------\u001b[0m",
      "\u001b[1;31mNameError\u001b[0m                                 Traceback (most recent call last)",
      "\u001b[1;32m<ipython-input-77-9d7b17ad5387>\u001b[0m in \u001b[0;36m<module>\u001b[1;34m()\u001b[0m\n\u001b[1;32m----> 1\u001b[1;33m \u001b[1;32mprint\u001b[0m \u001b[0ma\u001b[0m\u001b[1;33m\u001b[0m\u001b[0m\n\u001b[0m",
      "\u001b[1;31mNameError\u001b[0m: name 'a' is not defined"
     ]
    }
   ],
   "source": [
    "print a"
   ]
  },
  {
   "cell_type": "code",
   "execution_count": 78,
   "metadata": {
    "collapsed": false
   },
   "outputs": [
    {
     "name": "stdout",
     "output_type": "stream",
     "text": [
      "1\n",
      "2\n",
      "3\n"
     ]
    }
   ],
   "source": [
    "def func():\n",
    "    return 1,2,3\n",
    "\n",
    "a,b,c = func()\n",
    "\n",
    "print a\n",
    "print b\n",
    "print c\n"
   ]
  },
  {
   "cell_type": "code",
   "execution_count": 80,
   "metadata": {
    "collapsed": false
   },
   "outputs": [
    {
     "name": "stdout",
     "output_type": "stream",
     "text": [
      "0 1\n",
      "1 2\n",
      "2 3\n",
      "3 4\n",
      "4 5\n",
      "5 6\n",
      "6 7\n",
      "7 8\n",
      "8 9\n",
      "9 10\n",
      "10 11\n",
      "11 12\n",
      "12 13\n",
      "13 14\n",
      "14 15\n",
      "15 16\n",
      "16 17\n",
      "17 18\n",
      "18 19\n",
      "19 19\n"
     ]
    }
   ],
   "source": [
    "\n",
    "cnt = 0 \n",
    "for i in range(1,20):\n",
    "    print cnt, i\n",
    "    cnt += 1\n",
    "print cnt, i"
   ]
  },
  {
   "cell_type": "code",
   "execution_count": 82,
   "metadata": {
    "collapsed": false
   },
   "outputs": [
    {
     "name": "stdout",
     "output_type": "stream",
     "text": [
      "0 1\n",
      "1 2\n",
      "2 3\n",
      "3 4\n",
      "4 5\n",
      "5 6\n",
      "6 7\n",
      "7 8\n",
      "8 9\n",
      "9 10\n",
      "10 11\n",
      "11 12\n",
      "12 13\n",
      "13 14\n",
      "14 15\n",
      "15 16\n",
      "16 17\n",
      "17 18\n",
      "18 19\n"
     ]
    }
   ],
   "source": [
    "for id, i in enumerate(range(1,20)):\n",
    "    print id, i"
   ]
  },
  {
   "cell_type": "code",
   "execution_count": 86,
   "metadata": {
    "collapsed": true
   },
   "outputs": [],
   "source": [
    "class Person():\n",
    "    count = 0 # Static/class variable\n",
    "    def __init__(self, name, city):\n",
    "        self.name = name # Variable for the instance\n",
    "        self.city = city # Variable for the instance\n",
    "        Person.count += 1\n",
    "    def number_of_persons(self):\n",
    "        return Person.count"
   ]
  },
  {
   "cell_type": "code",
   "execution_count": 87,
   "metadata": {
    "collapsed": false
   },
   "outputs": [
    {
     "name": "stdout",
     "output_type": "stream",
     "text": [
      "1\n"
     ]
    }
   ],
   "source": [
    "first = Person(\"David\", \"Chiayi\")\n",
    "print first.number_of_persons()"
   ]
  },
  {
   "cell_type": "code",
   "execution_count": 88,
   "metadata": {
    "collapsed": false
   },
   "outputs": [
    {
     "name": "stdout",
     "output_type": "stream",
     "text": [
      "2\n"
     ]
    }
   ],
   "source": [
    "second = Person(\"Qoo\", \"Taipei\")\n",
    "print second.number_of_persons()"
   ]
  },
  {
   "cell_type": "code",
   "execution_count": 92,
   "metadata": {
    "collapsed": false
   },
   "outputs": [
    {
     "name": "stdout",
     "output_type": "stream",
     "text": [
      "David\n",
      "Chiayi\n",
      "Qoo\n",
      "Taipei\n"
     ]
    }
   ],
   "source": [
    "print first.name\n",
    "print first.city\n",
    "\n",
    "print second.name\n",
    "print second.city"
   ]
  },
  {
   "cell_type": "code",
   "execution_count": 93,
   "metadata": {
    "collapsed": true
   },
   "outputs": [],
   "source": [
    "class MyInteger():\n",
    "    def __init__(self, integer):\n",
    "        print \"constructor\"\n",
    "        self.integer = integer\n",
    "    def __add__(self, integer): # Overloaded '+' operator\n",
    "        if self.integer == 2 and integer == 2:\n",
    "            return 5\n",
    "        else:\n",
    "            return self.integer + integer\n",
    "\n"
   ]
  },
  {
   "cell_type": "code",
   "execution_count": 94,
   "metadata": {
    "collapsed": false
   },
   "outputs": [
    {
     "name": "stdout",
     "output_type": "stream",
     "text": [
      "constructor\n"
     ]
    }
   ],
   "source": [
    "\n",
    "a = MyInteger(3)"
   ]
  },
  {
   "cell_type": "code",
   "execution_count": 95,
   "metadata": {
    "collapsed": false
   },
   "outputs": [
    {
     "data": {
      "text/plain": [
       "instance"
      ]
     },
     "execution_count": 95,
     "metadata": {},
     "output_type": "execute_result"
    }
   ],
   "source": [
    "type(a)"
   ]
  },
  {
   "cell_type": "code",
   "execution_count": 96,
   "metadata": {
    "collapsed": false
   },
   "outputs": [
    {
     "data": {
      "text/plain": [
       "6"
      ]
     },
     "execution_count": 96,
     "metadata": {},
     "output_type": "execute_result"
    }
   ],
   "source": [
    "a + 3"
   ]
  },
  {
   "cell_type": "code",
   "execution_count": 97,
   "metadata": {
    "collapsed": false
   },
   "outputs": [
    {
     "name": "stdout",
     "output_type": "stream",
     "text": [
      "constructor\n"
     ]
    }
   ],
   "source": [
    "b = MyInteger(2)"
   ]
  },
  {
   "cell_type": "code",
   "execution_count": 98,
   "metadata": {
    "collapsed": false
   },
   "outputs": [
    {
     "data": {
      "text/plain": [
       "5"
      ]
     },
     "execution_count": 98,
     "metadata": {},
     "output_type": "execute_result"
    }
   ],
   "source": [
    "b + 2"
   ]
  },
  {
   "cell_type": "code",
   "execution_count": 100,
   "metadata": {
    "collapsed": true
   },
   "outputs": [],
   "source": [
    "#Derived Classes\n",
    "class Vehicle():\n",
    "    def my_own(self): return True\n",
    "    \n",
    "class Bicycle(Vehicle):\n",
    "    def __init__(self, color): self.color = color\n",
    "    def has_wheels(self): return True\n",
    "\n",
    "class rent_bike(Bicycle):\n",
    "    def my_own(self): return False\n",
    "\n"
   ]
  },
  {
   "cell_type": "code",
   "execution_count": 113,
   "metadata": {
    "collapsed": false
   },
   "outputs": [
    {
     "name": "stdout",
     "output_type": "stream",
     "text": [
      "['__doc__', '__init__', '__module__', 'color', 'has_wheels', 'my_own']\n",
      "False\n",
      "yellow\n",
      "<__main__.rent_bike instance at 0x0563BA58>\n",
      "['__doc__', '__init__', '__module__', 'color', 'has_wheels', 'my_own']\n",
      "True\n",
      "blue\n",
      "<__main__.Bicycle instance at 0x0563B6C0>\n",
      "['__doc__', '__module__', 'my_own']\n",
      "True\n"
     ]
    }
   ],
   "source": [
    "Ubike = rent_bike('yellow')\n",
    "print dir(Ubike)\n",
    "print Ubike.my_own()\n",
    "print Ubike.color\n",
    "print Ubike\n",
    "\n",
    "\n",
    "Giant = Bicycle('blue')\n",
    "print dir(Giant)\n",
    "print Giant.my_own()\n",
    "print Giant.color\n",
    "print Giant\n",
    "\n",
    "\n",
    "Honda = Vehicle()\n",
    "print dir(Honda)\n",
    "print Honda.my_own()\n",
    "#print Vehicle.color"
   ]
  },
  {
   "cell_type": "code",
   "execution_count": 116,
   "metadata": {
    "collapsed": false
   },
   "outputs": [
    {
     "name": "stdout",
     "output_type": "stream",
     "text": [
      "rent_bike is yellow\n",
      "this is a vehicle\n"
     ]
    }
   ],
   "source": [
    "class Vehicle():\n",
    "    def my_own(self): return True\n",
    "    def __str__(self): return \"this is a vehicle\"\n",
    "    \n",
    "class Bicycle(Vehicle):\n",
    "    def __init__(self, color): self.color = color\n",
    "    def has_wheels(self): return True\n",
    "    def __str__(self): return \"%s is %s\"%(self.__class__.__name__,self.color)\n",
    "\n",
    "class rent_bike(Bicycle):\n",
    "    def my_own(self): return False\n",
    "    \n",
    "Ubike = rent_bike('yellow')\n",
    "print Ubike\n",
    "\n",
    "\n",
    "Honda = Vehicle()\n",
    "print Honda"
   ]
  },
  {
   "cell_type": "code",
   "execution_count": null,
   "metadata": {
    "collapsed": true
   },
   "outputs": [],
   "source": []
  }
 ],
 "metadata": {
  "kernelspec": {
   "display_name": "Python 2",
   "language": "python",
   "name": "python2"
  },
  "language_info": {
   "codemirror_mode": {
    "name": "ipython",
    "version": 2
   },
   "file_extension": ".py",
   "mimetype": "text/x-python",
   "name": "python",
   "nbconvert_exporter": "python",
   "pygments_lexer": "ipython2",
   "version": "2.7.10"
  }
 },
 "nbformat": 4,
 "nbformat_minor": 0
}
